{
  "nbformat": 4,
  "nbformat_minor": 0,
  "metadata": {
    "colab": {
      "name": "Kaggle Predict Future Sales",
      "provenance": []
    },
    "kernelspec": {
      "name": "python3",
      "display_name": "Python 3"
    },
    "language_info": {
      "name": "python"
    }
  },
  "cells": [
    {
      "cell_type": "markdown",
      "metadata": {
        "id": "uovkJ_2tsUfp"
      },
      "source": [
        "###Intro"
      ]
    },
    {
      "cell_type": "markdown",
      "metadata": {
        "id": "BsBKcuLEoMy8"
      },
      "source": [
        "##PERFORMANCE Metric: R2-score, RMSLE, RMSE"
      ]
    },
    {
      "cell_type": "markdown",
      "metadata": {
        "_uuid": "7e5b13f63519b7d38eaac0c06ffd5793e0a43eab",
        "id": "-b-OkAx1U3S9"
      },
      "source": [
        "You are provided with daily historical sales and some sort of a (time-series) data. The task is to forecast the total amount of products sold in every shop for the test set. Note that the list of shops and products changes every month. Creating a unique and robust model that can handle such situations is part of the challenge. \n",
        "\n",
        "Lets first discuss what we are given and what we have to predict.\n",
        "About our dataset:\n",
        "\n",
        "The features in our training data :- \n",
        "1. date - every date of items sold\n",
        "2. date_block_num - this number is given to every month\n",
        "3. shop_id - unique number of every shop\n",
        "4. item_id - unique number of every item\n",
        "5. item_price - price of every item\n",
        "6. item_cnt_day - number of items sold on a particular day \n",
        "\n",
        "The features in our testing data :- \n",
        "1. ID - unique for every (shop_id,item_id) pair.\n",
        "2. shop_id - unique number of every shop\n",
        "3. item_id - unique number of every item\n",
        "\n",
        "Daily historical sales are given from Jan 2013 to Oct 2015. The task is to predict total sales for every product and store in the next month. \n",
        "The goal is here to minimise the performance metric: RMSE score\n",
        "Our submission should have ID and item_cnt_month columns.\n",
        "\n",
        "Approach: \n",
        "1. Exploratory Data Analysis\n"
      ]
    },
    {
      "cell_type": "markdown",
      "metadata": {
        "id": "MEDYQk45sZTz"
      },
      "source": [
        "###Part 1: Exploratory Data Analysis with the Dataset"
      ]
    },
    {
      "cell_type": "code",
      "metadata": {
        "id": "2Usc6G6Jaco-"
      },
      "source": [
        "import numpy as np\n",
        "import pandas as pd\n",
        "import matplotlib.pyplot as plt\n",
        "import seaborn as sns\n",
        "import datetime\n",
        "import warnings"
      ],
      "execution_count": null,
      "outputs": []
    },
    {
      "cell_type": "code",
      "metadata": {
        "colab": {
          "base_uri": "https://localhost:8080/"
        },
        "id": "27aWj4zidogb",
        "outputId": "be587578-fd79-41c5-d3c8-354533e93b31"
      },
      "source": [
        "from google.colab import drive\n",
        "drive.mount('/content/drive')"
      ],
      "execution_count": null,
      "outputs": [
        {
          "output_type": "stream",
          "name": "stdout",
          "text": [
            "Drive already mounted at /content/drive; to attempt to forcibly remount, call drive.mount(\"/content/drive\", force_remount=True).\n"
          ]
        }
      ]
    },
    {
      "cell_type": "code",
      "metadata": {
        "id": "JE0P8QQofSDN"
      },
      "source": [
        "categories = pd.read_csv('/content/drive/MyDrive/competitive-data-science-predict-future-sales/item_categories.csv')\n",
        "items = pd.read_csv('/content/drive/MyDrive/competitive-data-science-predict-future-sales/items.csv')\n",
        "train = pd.read_csv('/content/drive/MyDrive/competitive-data-science-predict-future-sales/sales_train.csv')\n",
        "shops = pd.read_csv('/content/drive/MyDrive/competitive-data-science-predict-future-sales/shops.csv')\n",
        "test = pd.read_csv('/content/drive/MyDrive/competitive-data-science-predict-future-sales/test.csv')"
      ],
      "execution_count": null,
      "outputs": []
    },
    {
      "cell_type": "markdown",
      "metadata": {
        "id": "GmLtiQLbjbrz"
      },
      "source": [
        "###1. Categories :"
      ]
    },
    {
      "cell_type": "code",
      "metadata": {
        "colab": {
          "base_uri": "https://localhost:8080/"
        },
        "id": "rWw_wm25jnrt",
        "outputId": "85ae4451-8af7-45ba-d41d-b9435c68b99b"
      },
      "source": [
        "print(\"First 5 Entries\")\n",
        "print(categories.head(5))\n",
        "print(\"Information\")\n",
        "print(categories.info())\n",
        "print(\"Data Types\")\n",
        "print(categories.dtypes)\n",
        "print(\"Missing Value\")\n",
        "print(categories.isnull().sum())\n",
        "print(\"Null Value\")\n",
        "print(categories.isna().sum())\n",
        "print(\"Shape\")\n",
        "print(categories.shape)"
      ],
      "execution_count": null,
      "outputs": [
        {
          "output_type": "stream",
          "name": "stdout",
          "text": [
            "First 5 Entries\n",
            "        item_category_name  item_category_id\n",
            "0  PC - Гарнитуры/Наушники                 0\n",
            "1         Аксессуары - PS2                 1\n",
            "2         Аксессуары - PS3                 2\n",
            "3         Аксессуары - PS4                 3\n",
            "4         Аксессуары - PSP                 4\n",
            "Information\n",
            "<class 'pandas.core.frame.DataFrame'>\n",
            "RangeIndex: 84 entries, 0 to 83\n",
            "Data columns (total 2 columns):\n",
            " #   Column              Non-Null Count  Dtype \n",
            "---  ------              --------------  ----- \n",
            " 0   item_category_name  84 non-null     object\n",
            " 1   item_category_id    84 non-null     int64 \n",
            "dtypes: int64(1), object(1)\n",
            "memory usage: 1.4+ KB\n",
            "None\n",
            "Data Types\n",
            "item_category_name    object\n",
            "item_category_id       int64\n",
            "dtype: object\n",
            "Missing Value\n",
            "item_category_name    0\n",
            "item_category_id      0\n",
            "dtype: int64\n",
            "Null Value\n",
            "item_category_name    0\n",
            "item_category_id      0\n",
            "dtype: int64\n",
            "Shape\n",
            "(84, 2)\n"
          ]
        }
      ]
    },
    {
      "cell_type": "code",
      "metadata": {
        "colab": {
          "base_uri": "https://localhost:8080/",
          "height": 300
        },
        "id": "3fxfSotFkKa4",
        "outputId": "da70d467-4735-4138-872e-b87fd2beb8e9"
      },
      "source": [
        "categories.describe()"
      ],
      "execution_count": null,
      "outputs": [
        {
          "output_type": "execute_result",
          "data": {
            "text/html": [
              "<div>\n",
              "<style scoped>\n",
              "    .dataframe tbody tr th:only-of-type {\n",
              "        vertical-align: middle;\n",
              "    }\n",
              "\n",
              "    .dataframe tbody tr th {\n",
              "        vertical-align: top;\n",
              "    }\n",
              "\n",
              "    .dataframe thead th {\n",
              "        text-align: right;\n",
              "    }\n",
              "</style>\n",
              "<table border=\"1\" class=\"dataframe\">\n",
              "  <thead>\n",
              "    <tr style=\"text-align: right;\">\n",
              "      <th></th>\n",
              "      <th>item_category_id</th>\n",
              "    </tr>\n",
              "  </thead>\n",
              "  <tbody>\n",
              "    <tr>\n",
              "      <th>count</th>\n",
              "      <td>84.000000</td>\n",
              "    </tr>\n",
              "    <tr>\n",
              "      <th>mean</th>\n",
              "      <td>41.500000</td>\n",
              "    </tr>\n",
              "    <tr>\n",
              "      <th>std</th>\n",
              "      <td>24.392622</td>\n",
              "    </tr>\n",
              "    <tr>\n",
              "      <th>min</th>\n",
              "      <td>0.000000</td>\n",
              "    </tr>\n",
              "    <tr>\n",
              "      <th>25%</th>\n",
              "      <td>20.750000</td>\n",
              "    </tr>\n",
              "    <tr>\n",
              "      <th>50%</th>\n",
              "      <td>41.500000</td>\n",
              "    </tr>\n",
              "    <tr>\n",
              "      <th>75%</th>\n",
              "      <td>62.250000</td>\n",
              "    </tr>\n",
              "    <tr>\n",
              "      <th>max</th>\n",
              "      <td>83.000000</td>\n",
              "    </tr>\n",
              "  </tbody>\n",
              "</table>\n",
              "</div>"
            ],
            "text/plain": [
              "       item_category_id\n",
              "count         84.000000\n",
              "mean          41.500000\n",
              "std           24.392622\n",
              "min            0.000000\n",
              "25%           20.750000\n",
              "50%           41.500000\n",
              "75%           62.250000\n",
              "max           83.000000"
            ]
          },
          "metadata": {},
          "execution_count": 42
        }
      ]
    },
    {
      "cell_type": "markdown",
      "metadata": {
        "id": "WBLxY0wNkwUi"
      },
      "source": [
        "###2. Items"
      ]
    },
    {
      "cell_type": "code",
      "metadata": {
        "colab": {
          "base_uri": "https://localhost:8080/"
        },
        "id": "wnyWHF8Okab4",
        "outputId": "82ad124e-8ca0-4e8b-f9c8-f422ea002e90"
      },
      "source": [
        "print(\"First 5 Entries\")\n",
        "print(items.head(5))\n",
        "print(\"Information\")\n",
        "print(items.info())\n",
        "print(\"Data Types\")\n",
        "print(items.dtypes)\n",
        "print(\"Missing value\")\n",
        "print(items.isnull().sum())\n",
        "print(\"Null value\")\n",
        "print(items.isna().sum())\n",
        "print(\"Shape of Data\")\n",
        "print(items.shape)"
      ],
      "execution_count": null,
      "outputs": [
        {
          "output_type": "stream",
          "name": "stdout",
          "text": [
            "First 5 Entries\n",
            "                                           item_name  item_id  item_category_id\n",
            "0          ! ВО ВЛАСТИ НАВАЖДЕНИЯ (ПЛАСТ.)         D        0                40\n",
            "1  !ABBYY FineReader 12 Professional Edition Full...        1                76\n",
            "2      ***В ЛУЧАХ СЛАВЫ   (UNV)                    D        2                40\n",
            "3    ***ГОЛУБАЯ ВОЛНА  (Univ)                      D        3                40\n",
            "4        ***КОРОБКА (СТЕКЛО)                       D        4                40\n",
            "Information\n",
            "<class 'pandas.core.frame.DataFrame'>\n",
            "RangeIndex: 22170 entries, 0 to 22169\n",
            "Data columns (total 3 columns):\n",
            " #   Column            Non-Null Count  Dtype \n",
            "---  ------            --------------  ----- \n",
            " 0   item_name         22170 non-null  object\n",
            " 1   item_id           22170 non-null  int64 \n",
            " 2   item_category_id  22170 non-null  int64 \n",
            "dtypes: int64(2), object(1)\n",
            "memory usage: 519.7+ KB\n",
            "None\n",
            "Data Types\n",
            "item_name           object\n",
            "item_id              int64\n",
            "item_category_id     int64\n",
            "dtype: object\n",
            "Missing value\n",
            "item_name           0\n",
            "item_id             0\n",
            "item_category_id    0\n",
            "dtype: int64\n",
            "Null value\n",
            "item_name           0\n",
            "item_id             0\n",
            "item_category_id    0\n",
            "dtype: int64\n",
            "Shape of Data\n",
            "(22170, 3)\n"
          ]
        }
      ]
    },
    {
      "cell_type": "code",
      "metadata": {
        "colab": {
          "base_uri": "https://localhost:8080/",
          "height": 300
        },
        "id": "m7MNvTVhlEfp",
        "outputId": "65476886-42e1-476c-8adc-5caf12de9a22"
      },
      "source": [
        "items.describe()"
      ],
      "execution_count": null,
      "outputs": [
        {
          "output_type": "execute_result",
          "data": {
            "text/html": [
              "<div>\n",
              "<style scoped>\n",
              "    .dataframe tbody tr th:only-of-type {\n",
              "        vertical-align: middle;\n",
              "    }\n",
              "\n",
              "    .dataframe tbody tr th {\n",
              "        vertical-align: top;\n",
              "    }\n",
              "\n",
              "    .dataframe thead th {\n",
              "        text-align: right;\n",
              "    }\n",
              "</style>\n",
              "<table border=\"1\" class=\"dataframe\">\n",
              "  <thead>\n",
              "    <tr style=\"text-align: right;\">\n",
              "      <th></th>\n",
              "      <th>item_id</th>\n",
              "      <th>item_category_id</th>\n",
              "    </tr>\n",
              "  </thead>\n",
              "  <tbody>\n",
              "    <tr>\n",
              "      <th>count</th>\n",
              "      <td>22170.00000</td>\n",
              "      <td>22170.000000</td>\n",
              "    </tr>\n",
              "    <tr>\n",
              "      <th>mean</th>\n",
              "      <td>11084.50000</td>\n",
              "      <td>46.290753</td>\n",
              "    </tr>\n",
              "    <tr>\n",
              "      <th>std</th>\n",
              "      <td>6400.07207</td>\n",
              "      <td>15.941486</td>\n",
              "    </tr>\n",
              "    <tr>\n",
              "      <th>min</th>\n",
              "      <td>0.00000</td>\n",
              "      <td>0.000000</td>\n",
              "    </tr>\n",
              "    <tr>\n",
              "      <th>25%</th>\n",
              "      <td>5542.25000</td>\n",
              "      <td>37.000000</td>\n",
              "    </tr>\n",
              "    <tr>\n",
              "      <th>50%</th>\n",
              "      <td>11084.50000</td>\n",
              "      <td>40.000000</td>\n",
              "    </tr>\n",
              "    <tr>\n",
              "      <th>75%</th>\n",
              "      <td>16626.75000</td>\n",
              "      <td>58.000000</td>\n",
              "    </tr>\n",
              "    <tr>\n",
              "      <th>max</th>\n",
              "      <td>22169.00000</td>\n",
              "      <td>83.000000</td>\n",
              "    </tr>\n",
              "  </tbody>\n",
              "</table>\n",
              "</div>"
            ],
            "text/plain": [
              "           item_id  item_category_id\n",
              "count  22170.00000      22170.000000\n",
              "mean   11084.50000         46.290753\n",
              "std     6400.07207         15.941486\n",
              "min        0.00000          0.000000\n",
              "25%     5542.25000         37.000000\n",
              "50%    11084.50000         40.000000\n",
              "75%    16626.75000         58.000000\n",
              "max    22169.00000         83.000000"
            ]
          },
          "metadata": {},
          "execution_count": 44
        }
      ]
    },
    {
      "cell_type": "markdown",
      "metadata": {
        "id": "bq6an_QvmM7B"
      },
      "source": [
        "###3. Train"
      ]
    },
    {
      "cell_type": "code",
      "metadata": {
        "colab": {
          "base_uri": "https://localhost:8080/"
        },
        "id": "LfGYfpQedd_M",
        "outputId": "80069c14-cc8b-4749-eab2-d0d8a6aa6a4f"
      },
      "source": [
        "print(\"First 5 entries\")\n",
        "print(train.head())\n"
      ],
      "execution_count": null,
      "outputs": [
        {
          "output_type": "stream",
          "name": "stdout",
          "text": [
            "First 5 entries\n",
            "         date  date_block_num  shop_id  item_id  item_price  item_cnt_day\n",
            "0  02.01.2013               0       59    22154      999.00           1.0\n",
            "1  03.01.2013               0       25     2552      899.00           1.0\n",
            "2  05.01.2013               0       25     2552      899.00          -1.0\n",
            "3  06.01.2013               0       25     2554     1709.05           1.0\n",
            "4  15.01.2013               0       25     2555     1099.00           1.0\n"
          ]
        }
      ]
    },
    {
      "cell_type": "code",
      "metadata": {
        "colab": {
          "base_uri": "https://localhost:8080/"
        },
        "id": "FAJnZuCZeZ0D",
        "outputId": "0c8bd8bb-c339-419e-8e89-2231c2527de9"
      },
      "source": [
        "print(\"Shape\")\n",
        "print(train.shape)"
      ],
      "execution_count": null,
      "outputs": [
        {
          "output_type": "stream",
          "name": "stdout",
          "text": [
            "Shape\n",
            "(2935849, 6)\n"
          ]
        }
      ]
    },
    {
      "cell_type": "code",
      "metadata": {
        "colab": {
          "base_uri": "https://localhost:8080/"
        },
        "id": "S3FirjYkeIYH",
        "outputId": "9434bc48-2d8f-4631-9d92-48f80951f941"
      },
      "source": [
        "print(\"Data Info\")\n",
        "print(train.info())"
      ],
      "execution_count": null,
      "outputs": [
        {
          "output_type": "stream",
          "name": "stdout",
          "text": [
            "Data Info\n",
            "<class 'pandas.core.frame.DataFrame'>\n",
            "RangeIndex: 2935849 entries, 0 to 2935848\n",
            "Data columns (total 6 columns):\n",
            " #   Column          Dtype  \n",
            "---  ------          -----  \n",
            " 0   date            object \n",
            " 1   date_block_num  int64  \n",
            " 2   shop_id         int64  \n",
            " 3   item_id         int64  \n",
            " 4   item_price      float64\n",
            " 5   item_cnt_day    float64\n",
            "dtypes: float64(2), int64(3), object(1)\n",
            "memory usage: 134.4+ MB\n",
            "None\n"
          ]
        }
      ]
    },
    {
      "cell_type": "code",
      "metadata": {
        "colab": {
          "base_uri": "https://localhost:8080/"
        },
        "id": "aV5PV2IMeMPL",
        "outputId": "e3e7f1aa-fa91-4ea9-f7bb-47ddd966ef8a"
      },
      "source": [
        "print(\"Data Types\")\n",
        "print(train.dtypes)"
      ],
      "execution_count": null,
      "outputs": [
        {
          "output_type": "stream",
          "name": "stdout",
          "text": [
            "Data Types\n",
            "date               object\n",
            "date_block_num      int64\n",
            "shop_id             int64\n",
            "item_id             int64\n",
            "item_price        float64\n",
            "item_cnt_day      float64\n",
            "dtype: object\n"
          ]
        }
      ]
    },
    {
      "cell_type": "code",
      "metadata": {
        "colab": {
          "base_uri": "https://localhost:8080/"
        },
        "id": "XDvY4ZSreQMX",
        "outputId": "fded1e71-38fa-4f95-d0d1-3df3810418f6"
      },
      "source": [
        "print(\"Missing NaN values\")\n",
        "print(train.isnull().sum())"
      ],
      "execution_count": null,
      "outputs": [
        {
          "output_type": "stream",
          "name": "stdout",
          "text": [
            "Missing NaN values\n",
            "date              0\n",
            "date_block_num    0\n",
            "shop_id           0\n",
            "item_id           0\n",
            "item_price        0\n",
            "item_cnt_day      0\n",
            "dtype: int64\n"
          ]
        }
      ]
    },
    {
      "cell_type": "code",
      "metadata": {
        "colab": {
          "base_uri": "https://localhost:8080/"
        },
        "id": "xZ5H0L1JeSYA",
        "outputId": "5a2d5abe-e972-4563-93a1-02baf39886d0"
      },
      "source": [
        "print(\"Null Values\")\n",
        "print(train.isna().sum())"
      ],
      "execution_count": null,
      "outputs": [
        {
          "output_type": "stream",
          "name": "stdout",
          "text": [
            "Null Values\n",
            "date              0\n",
            "date_block_num    0\n",
            "shop_id           0\n",
            "item_id           0\n",
            "item_price        0\n",
            "item_cnt_day      0\n",
            "dtype: int64\n"
          ]
        }
      ]
    },
    {
      "cell_type": "code",
      "metadata": {
        "colab": {
          "base_uri": "https://localhost:8080/",
          "height": 300
        },
        "id": "AImaeeZC-Pir",
        "outputId": "dd85bf27-8052-47b5-aef2-5d8dd21df6d9"
      },
      "source": [
        "train.describe()"
      ],
      "execution_count": null,
      "outputs": [
        {
          "output_type": "execute_result",
          "data": {
            "text/html": [
              "<div>\n",
              "<style scoped>\n",
              "    .dataframe tbody tr th:only-of-type {\n",
              "        vertical-align: middle;\n",
              "    }\n",
              "\n",
              "    .dataframe tbody tr th {\n",
              "        vertical-align: top;\n",
              "    }\n",
              "\n",
              "    .dataframe thead th {\n",
              "        text-align: right;\n",
              "    }\n",
              "</style>\n",
              "<table border=\"1\" class=\"dataframe\">\n",
              "  <thead>\n",
              "    <tr style=\"text-align: right;\">\n",
              "      <th></th>\n",
              "      <th>date_block_num</th>\n",
              "      <th>shop_id</th>\n",
              "      <th>item_id</th>\n",
              "      <th>item_price</th>\n",
              "      <th>item_cnt_day</th>\n",
              "    </tr>\n",
              "  </thead>\n",
              "  <tbody>\n",
              "    <tr>\n",
              "      <th>count</th>\n",
              "      <td>2.935849e+06</td>\n",
              "      <td>2.935849e+06</td>\n",
              "      <td>2.935849e+06</td>\n",
              "      <td>2.935849e+06</td>\n",
              "      <td>2.935849e+06</td>\n",
              "    </tr>\n",
              "    <tr>\n",
              "      <th>mean</th>\n",
              "      <td>1.456991e+01</td>\n",
              "      <td>3.300173e+01</td>\n",
              "      <td>1.019723e+04</td>\n",
              "      <td>8.908532e+02</td>\n",
              "      <td>1.242641e+00</td>\n",
              "    </tr>\n",
              "    <tr>\n",
              "      <th>std</th>\n",
              "      <td>9.422988e+00</td>\n",
              "      <td>1.622697e+01</td>\n",
              "      <td>6.324297e+03</td>\n",
              "      <td>1.729800e+03</td>\n",
              "      <td>2.618834e+00</td>\n",
              "    </tr>\n",
              "    <tr>\n",
              "      <th>min</th>\n",
              "      <td>0.000000e+00</td>\n",
              "      <td>0.000000e+00</td>\n",
              "      <td>0.000000e+00</td>\n",
              "      <td>-1.000000e+00</td>\n",
              "      <td>-2.200000e+01</td>\n",
              "    </tr>\n",
              "    <tr>\n",
              "      <th>25%</th>\n",
              "      <td>7.000000e+00</td>\n",
              "      <td>2.200000e+01</td>\n",
              "      <td>4.476000e+03</td>\n",
              "      <td>2.490000e+02</td>\n",
              "      <td>1.000000e+00</td>\n",
              "    </tr>\n",
              "    <tr>\n",
              "      <th>50%</th>\n",
              "      <td>1.400000e+01</td>\n",
              "      <td>3.100000e+01</td>\n",
              "      <td>9.343000e+03</td>\n",
              "      <td>3.990000e+02</td>\n",
              "      <td>1.000000e+00</td>\n",
              "    </tr>\n",
              "    <tr>\n",
              "      <th>75%</th>\n",
              "      <td>2.300000e+01</td>\n",
              "      <td>4.700000e+01</td>\n",
              "      <td>1.568400e+04</td>\n",
              "      <td>9.990000e+02</td>\n",
              "      <td>1.000000e+00</td>\n",
              "    </tr>\n",
              "    <tr>\n",
              "      <th>max</th>\n",
              "      <td>3.300000e+01</td>\n",
              "      <td>5.900000e+01</td>\n",
              "      <td>2.216900e+04</td>\n",
              "      <td>3.079800e+05</td>\n",
              "      <td>2.169000e+03</td>\n",
              "    </tr>\n",
              "  </tbody>\n",
              "</table>\n",
              "</div>"
            ],
            "text/plain": [
              "       date_block_num       shop_id       item_id    item_price  item_cnt_day\n",
              "count    2.935849e+06  2.935849e+06  2.935849e+06  2.935849e+06  2.935849e+06\n",
              "mean     1.456991e+01  3.300173e+01  1.019723e+04  8.908532e+02  1.242641e+00\n",
              "std      9.422988e+00  1.622697e+01  6.324297e+03  1.729800e+03  2.618834e+00\n",
              "min      0.000000e+00  0.000000e+00  0.000000e+00 -1.000000e+00 -2.200000e+01\n",
              "25%      7.000000e+00  2.200000e+01  4.476000e+03  2.490000e+02  1.000000e+00\n",
              "50%      1.400000e+01  3.100000e+01  9.343000e+03  3.990000e+02  1.000000e+00\n",
              "75%      2.300000e+01  4.700000e+01  1.568400e+04  9.990000e+02  1.000000e+00\n",
              "max      3.300000e+01  5.900000e+01  2.216900e+04  3.079800e+05  2.169000e+03"
            ]
          },
          "metadata": {},
          "execution_count": 51
        }
      ]
    },
    {
      "cell_type": "code",
      "metadata": {
        "colab": {
          "base_uri": "https://localhost:8080/",
          "height": 424
        },
        "id": "B4LnDT8C0bwn",
        "outputId": "d0a65f0f-39c7-4a0a-dafd-5a331e91fedc"
      },
      "source": [
        "train['date'] = pd.to_datetime(train['date'], format = '%d.%m.%Y')\n",
        "train\n"
      ],
      "execution_count": null,
      "outputs": [
        {
          "output_type": "execute_result",
          "data": {
            "text/html": [
              "<div>\n",
              "<style scoped>\n",
              "    .dataframe tbody tr th:only-of-type {\n",
              "        vertical-align: middle;\n",
              "    }\n",
              "\n",
              "    .dataframe tbody tr th {\n",
              "        vertical-align: top;\n",
              "    }\n",
              "\n",
              "    .dataframe thead th {\n",
              "        text-align: right;\n",
              "    }\n",
              "</style>\n",
              "<table border=\"1\" class=\"dataframe\">\n",
              "  <thead>\n",
              "    <tr style=\"text-align: right;\">\n",
              "      <th></th>\n",
              "      <th>date</th>\n",
              "      <th>date_block_num</th>\n",
              "      <th>shop_id</th>\n",
              "      <th>item_id</th>\n",
              "      <th>item_price</th>\n",
              "      <th>item_cnt_day</th>\n",
              "    </tr>\n",
              "  </thead>\n",
              "  <tbody>\n",
              "    <tr>\n",
              "      <th>0</th>\n",
              "      <td>2013-01-02</td>\n",
              "      <td>0</td>\n",
              "      <td>59</td>\n",
              "      <td>22154</td>\n",
              "      <td>999.00</td>\n",
              "      <td>1.0</td>\n",
              "    </tr>\n",
              "    <tr>\n",
              "      <th>1</th>\n",
              "      <td>2013-01-03</td>\n",
              "      <td>0</td>\n",
              "      <td>25</td>\n",
              "      <td>2552</td>\n",
              "      <td>899.00</td>\n",
              "      <td>1.0</td>\n",
              "    </tr>\n",
              "    <tr>\n",
              "      <th>2</th>\n",
              "      <td>2013-01-05</td>\n",
              "      <td>0</td>\n",
              "      <td>25</td>\n",
              "      <td>2552</td>\n",
              "      <td>899.00</td>\n",
              "      <td>-1.0</td>\n",
              "    </tr>\n",
              "    <tr>\n",
              "      <th>3</th>\n",
              "      <td>2013-01-06</td>\n",
              "      <td>0</td>\n",
              "      <td>25</td>\n",
              "      <td>2554</td>\n",
              "      <td>1709.05</td>\n",
              "      <td>1.0</td>\n",
              "    </tr>\n",
              "    <tr>\n",
              "      <th>4</th>\n",
              "      <td>2013-01-15</td>\n",
              "      <td>0</td>\n",
              "      <td>25</td>\n",
              "      <td>2555</td>\n",
              "      <td>1099.00</td>\n",
              "      <td>1.0</td>\n",
              "    </tr>\n",
              "    <tr>\n",
              "      <th>...</th>\n",
              "      <td>...</td>\n",
              "      <td>...</td>\n",
              "      <td>...</td>\n",
              "      <td>...</td>\n",
              "      <td>...</td>\n",
              "      <td>...</td>\n",
              "    </tr>\n",
              "    <tr>\n",
              "      <th>2935844</th>\n",
              "      <td>2015-10-10</td>\n",
              "      <td>33</td>\n",
              "      <td>25</td>\n",
              "      <td>7409</td>\n",
              "      <td>299.00</td>\n",
              "      <td>1.0</td>\n",
              "    </tr>\n",
              "    <tr>\n",
              "      <th>2935845</th>\n",
              "      <td>2015-10-09</td>\n",
              "      <td>33</td>\n",
              "      <td>25</td>\n",
              "      <td>7460</td>\n",
              "      <td>299.00</td>\n",
              "      <td>1.0</td>\n",
              "    </tr>\n",
              "    <tr>\n",
              "      <th>2935846</th>\n",
              "      <td>2015-10-14</td>\n",
              "      <td>33</td>\n",
              "      <td>25</td>\n",
              "      <td>7459</td>\n",
              "      <td>349.00</td>\n",
              "      <td>1.0</td>\n",
              "    </tr>\n",
              "    <tr>\n",
              "      <th>2935847</th>\n",
              "      <td>2015-10-22</td>\n",
              "      <td>33</td>\n",
              "      <td>25</td>\n",
              "      <td>7440</td>\n",
              "      <td>299.00</td>\n",
              "      <td>1.0</td>\n",
              "    </tr>\n",
              "    <tr>\n",
              "      <th>2935848</th>\n",
              "      <td>2015-10-03</td>\n",
              "      <td>33</td>\n",
              "      <td>25</td>\n",
              "      <td>7460</td>\n",
              "      <td>299.00</td>\n",
              "      <td>1.0</td>\n",
              "    </tr>\n",
              "  </tbody>\n",
              "</table>\n",
              "<p>2935849 rows × 6 columns</p>\n",
              "</div>"
            ],
            "text/plain": [
              "              date  date_block_num  shop_id  item_id  item_price  item_cnt_day\n",
              "0       2013-01-02               0       59    22154      999.00           1.0\n",
              "1       2013-01-03               0       25     2552      899.00           1.0\n",
              "2       2013-01-05               0       25     2552      899.00          -1.0\n",
              "3       2013-01-06               0       25     2554     1709.05           1.0\n",
              "4       2013-01-15               0       25     2555     1099.00           1.0\n",
              "...            ...             ...      ...      ...         ...           ...\n",
              "2935844 2015-10-10              33       25     7409      299.00           1.0\n",
              "2935845 2015-10-09              33       25     7460      299.00           1.0\n",
              "2935846 2015-10-14              33       25     7459      349.00           1.0\n",
              "2935847 2015-10-22              33       25     7440      299.00           1.0\n",
              "2935848 2015-10-03              33       25     7460      299.00           1.0\n",
              "\n",
              "[2935849 rows x 6 columns]"
            ]
          },
          "metadata": {},
          "execution_count": 52
        }
      ]
    },
    {
      "cell_type": "code",
      "metadata": {
        "id": "4gzmKdw1TbFb"
      },
      "source": [
        "train = train.join(items, on='item_id', rsuffix='_').join(shops, on='shop_id', rsuffix='_').join(categories, on='item_category_id', rsuffix='_').drop(['item_id_', 'shop_id_', 'item_category_id_'], axis=1)"
      ],
      "execution_count": null,
      "outputs": []
    },
    {
      "cell_type": "code",
      "metadata": {
        "colab": {
          "base_uri": "https://localhost:8080/"
        },
        "id": "YtKRQMkSTpax",
        "outputId": "623d45a1-8f4e-47aa-f146-d48cbaa47c49"
      },
      "source": [
        "print('Train rows: ', train.shape[0])\n",
        "print('Train columns: ', train.shape[1])"
      ],
      "execution_count": null,
      "outputs": [
        {
          "output_type": "stream",
          "name": "stdout",
          "text": [
            "Train rows:  2935849\n",
            "Train columns:  10\n"
          ]
        }
      ]
    },
    {
      "cell_type": "code",
      "metadata": {
        "colab": {
          "base_uri": "https://localhost:8080/"
        },
        "id": "6J2QwLv_V0LU",
        "outputId": "40a71467-2815-4dff-b196-2f66de146cc6"
      },
      "source": [
        "print('Min date from train set: %s' % train['date'].min().date())\n",
        "print('Max date from train set: %s' % train['date'].max().date())"
      ],
      "execution_count": null,
      "outputs": [
        {
          "output_type": "stream",
          "name": "stdout",
          "text": [
            "Min date from train set: 2013-01-01\n",
            "Max date from train set: 2015-10-31\n"
          ]
        }
      ]
    },
    {
      "cell_type": "markdown",
      "metadata": {
        "id": "EJbqv-87USB1"
      },
      "source": [
        "So, basically we're looking at a window of 34 months, and also we can observe that based on the same date_block_num column has assigned values from 0 to 33."
      ]
    },
    {
      "cell_type": "code",
      "metadata": {
        "id": "uehy2yC5OagK",
        "colab": {
          "base_uri": "https://localhost:8080/"
        },
        "outputId": "4dde8057-987d-4d76-86e7-c2673a9229f4"
      },
      "source": [
        "#Note that this function can be modified by choosing to calculate duplicates over only a subset of features, keeping the last entry, etc.\n",
        "train.drop_duplicates(inplace=True,keep='first')\n",
        "print(train)"
      ],
      "execution_count": null,
      "outputs": [
        {
          "output_type": "stream",
          "name": "stdout",
          "text": [
            "              date  ...                   item_category_name\n",
            "0       2013-01-02  ...                       Кино - Blu-Ray\n",
            "1       2013-01-03  ...                       Музыка - Винил\n",
            "2       2013-01-05  ...                       Музыка - Винил\n",
            "3       2013-01-06  ...                       Музыка - Винил\n",
            "4       2013-01-15  ...  Музыка - CD фирменного производства\n",
            "...            ...  ...                                  ...\n",
            "2935844 2015-10-10  ...  Музыка - CD локального производства\n",
            "2935845 2015-10-09  ...  Музыка - CD локального производства\n",
            "2935846 2015-10-14  ...  Музыка - CD локального производства\n",
            "2935847 2015-10-22  ...                         Музыка - MP3\n",
            "2935848 2015-10-03  ...  Музыка - CD локального производства\n",
            "\n",
            "[2935843 rows x 10 columns]\n"
          ]
        }
      ]
    },
    {
      "cell_type": "markdown",
      "metadata": {
        "id": "GLIeCRc9B_qy"
      },
      "source": [
        "Now, let's check if there's any data leakage. "
      ]
    },
    {
      "cell_type": "code",
      "metadata": {
        "colab": {
          "base_uri": "https://localhost:8080/"
        },
        "id": "FVAyR8US96wl",
        "outputId": "7b696103-06a9-4b01-fcfa-7e4187a04215"
      },
      "source": [
        "test_shop_ids = test['shop_id'].unique()\n",
        "test_item_ids = test['item_id'].unique()\n",
        "# Only shops that exist in test set.\n",
        "lk_train = train[train['shop_id'].isin(test_shop_ids)]\n",
        "# Only items that exist in test set.\n",
        "lk_train = lk_train[lk_train['item_id'].isin(test_item_ids)]\n",
        "\n",
        "print('Data set size before leaking:', train.shape[0])\n",
        "print('Data set size after leaking:', lk_train.shape[0])\n",
        "\n"
      ],
      "execution_count": null,
      "outputs": [
        {
          "output_type": "stream",
          "name": "stdout",
          "text": [
            "Data set size before leaking: 2935843\n",
            "Data set size after leaking: 1224434\n"
          ]
        }
      ]
    },
    {
      "cell_type": "code",
      "metadata": {
        "id": "hcFaI86V6RE1",
        "colab": {
          "base_uri": "https://localhost:8080/",
          "height": 597
        },
        "outputId": "1978ed45-e5d1-4b85-c8ce-3a3042121cc2"
      },
      "source": [
        "train = train.query('item_price > 0') ##Data Cleaning\n",
        "train"
      ],
      "execution_count": null,
      "outputs": [
        {
          "output_type": "execute_result",
          "data": {
            "text/html": [
              "<div>\n",
              "<style scoped>\n",
              "    .dataframe tbody tr th:only-of-type {\n",
              "        vertical-align: middle;\n",
              "    }\n",
              "\n",
              "    .dataframe tbody tr th {\n",
              "        vertical-align: top;\n",
              "    }\n",
              "\n",
              "    .dataframe thead th {\n",
              "        text-align: right;\n",
              "    }\n",
              "</style>\n",
              "<table border=\"1\" class=\"dataframe\">\n",
              "  <thead>\n",
              "    <tr style=\"text-align: right;\">\n",
              "      <th></th>\n",
              "      <th>date</th>\n",
              "      <th>date_block_num</th>\n",
              "      <th>shop_id</th>\n",
              "      <th>item_id</th>\n",
              "      <th>item_price</th>\n",
              "      <th>item_cnt_day</th>\n",
              "      <th>item_name</th>\n",
              "      <th>item_category_id</th>\n",
              "      <th>shop_name</th>\n",
              "      <th>item_category_name</th>\n",
              "    </tr>\n",
              "  </thead>\n",
              "  <tbody>\n",
              "    <tr>\n",
              "      <th>0</th>\n",
              "      <td>2013-01-02</td>\n",
              "      <td>0</td>\n",
              "      <td>59</td>\n",
              "      <td>22154</td>\n",
              "      <td>999.00</td>\n",
              "      <td>1.0</td>\n",
              "      <td>ЯВЛЕНИЕ 2012 (BD)</td>\n",
              "      <td>37</td>\n",
              "      <td>Ярославль ТЦ \"Альтаир\"</td>\n",
              "      <td>Кино - Blu-Ray</td>\n",
              "    </tr>\n",
              "    <tr>\n",
              "      <th>1</th>\n",
              "      <td>2013-01-03</td>\n",
              "      <td>0</td>\n",
              "      <td>25</td>\n",
              "      <td>2552</td>\n",
              "      <td>899.00</td>\n",
              "      <td>1.0</td>\n",
              "      <td>DEEP PURPLE  The House Of Blue Light  LP</td>\n",
              "      <td>58</td>\n",
              "      <td>Москва ТРК \"Атриум\"</td>\n",
              "      <td>Музыка - Винил</td>\n",
              "    </tr>\n",
              "    <tr>\n",
              "      <th>2</th>\n",
              "      <td>2013-01-05</td>\n",
              "      <td>0</td>\n",
              "      <td>25</td>\n",
              "      <td>2552</td>\n",
              "      <td>899.00</td>\n",
              "      <td>-1.0</td>\n",
              "      <td>DEEP PURPLE  The House Of Blue Light  LP</td>\n",
              "      <td>58</td>\n",
              "      <td>Москва ТРК \"Атриум\"</td>\n",
              "      <td>Музыка - Винил</td>\n",
              "    </tr>\n",
              "    <tr>\n",
              "      <th>3</th>\n",
              "      <td>2013-01-06</td>\n",
              "      <td>0</td>\n",
              "      <td>25</td>\n",
              "      <td>2554</td>\n",
              "      <td>1709.05</td>\n",
              "      <td>1.0</td>\n",
              "      <td>DEEP PURPLE  Who Do You Think We Are  LP</td>\n",
              "      <td>58</td>\n",
              "      <td>Москва ТРК \"Атриум\"</td>\n",
              "      <td>Музыка - Винил</td>\n",
              "    </tr>\n",
              "    <tr>\n",
              "      <th>4</th>\n",
              "      <td>2013-01-15</td>\n",
              "      <td>0</td>\n",
              "      <td>25</td>\n",
              "      <td>2555</td>\n",
              "      <td>1099.00</td>\n",
              "      <td>1.0</td>\n",
              "      <td>DEEP PURPLE 30 Very Best Of 2CD (Фирм.)</td>\n",
              "      <td>56</td>\n",
              "      <td>Москва ТРК \"Атриум\"</td>\n",
              "      <td>Музыка - CD фирменного производства</td>\n",
              "    </tr>\n",
              "    <tr>\n",
              "      <th>...</th>\n",
              "      <td>...</td>\n",
              "      <td>...</td>\n",
              "      <td>...</td>\n",
              "      <td>...</td>\n",
              "      <td>...</td>\n",
              "      <td>...</td>\n",
              "      <td>...</td>\n",
              "      <td>...</td>\n",
              "      <td>...</td>\n",
              "      <td>...</td>\n",
              "    </tr>\n",
              "    <tr>\n",
              "      <th>2935844</th>\n",
              "      <td>2015-10-10</td>\n",
              "      <td>33</td>\n",
              "      <td>25</td>\n",
              "      <td>7409</td>\n",
              "      <td>299.00</td>\n",
              "      <td>1.0</td>\n",
              "      <td>V/A Nu Jazz Selection (digipack)</td>\n",
              "      <td>55</td>\n",
              "      <td>Москва ТРК \"Атриум\"</td>\n",
              "      <td>Музыка - CD локального производства</td>\n",
              "    </tr>\n",
              "    <tr>\n",
              "      <th>2935845</th>\n",
              "      <td>2015-10-09</td>\n",
              "      <td>33</td>\n",
              "      <td>25</td>\n",
              "      <td>7460</td>\n",
              "      <td>299.00</td>\n",
              "      <td>1.0</td>\n",
              "      <td>V/A The Golden Jazz Collection  1  2CD</td>\n",
              "      <td>55</td>\n",
              "      <td>Москва ТРК \"Атриум\"</td>\n",
              "      <td>Музыка - CD локального производства</td>\n",
              "    </tr>\n",
              "    <tr>\n",
              "      <th>2935846</th>\n",
              "      <td>2015-10-14</td>\n",
              "      <td>33</td>\n",
              "      <td>25</td>\n",
              "      <td>7459</td>\n",
              "      <td>349.00</td>\n",
              "      <td>1.0</td>\n",
              "      <td>V/A The Best Of The 3 Tenors</td>\n",
              "      <td>55</td>\n",
              "      <td>Москва ТРК \"Атриум\"</td>\n",
              "      <td>Музыка - CD локального производства</td>\n",
              "    </tr>\n",
              "    <tr>\n",
              "      <th>2935847</th>\n",
              "      <td>2015-10-22</td>\n",
              "      <td>33</td>\n",
              "      <td>25</td>\n",
              "      <td>7440</td>\n",
              "      <td>299.00</td>\n",
              "      <td>1.0</td>\n",
              "      <td>V/A Relax Collection  Planet MP3 (mp3-CD) (jewel)</td>\n",
              "      <td>57</td>\n",
              "      <td>Москва ТРК \"Атриум\"</td>\n",
              "      <td>Музыка - MP3</td>\n",
              "    </tr>\n",
              "    <tr>\n",
              "      <th>2935848</th>\n",
              "      <td>2015-10-03</td>\n",
              "      <td>33</td>\n",
              "      <td>25</td>\n",
              "      <td>7460</td>\n",
              "      <td>299.00</td>\n",
              "      <td>1.0</td>\n",
              "      <td>V/A The Golden Jazz Collection  1  2CD</td>\n",
              "      <td>55</td>\n",
              "      <td>Москва ТРК \"Атриум\"</td>\n",
              "      <td>Музыка - CD локального производства</td>\n",
              "    </tr>\n",
              "  </tbody>\n",
              "</table>\n",
              "<p>2935842 rows × 10 columns</p>\n",
              "</div>"
            ],
            "text/plain": [
              "              date  ...                   item_category_name\n",
              "0       2013-01-02  ...                       Кино - Blu-Ray\n",
              "1       2013-01-03  ...                       Музыка - Винил\n",
              "2       2013-01-05  ...                       Музыка - Винил\n",
              "3       2013-01-06  ...                       Музыка - Винил\n",
              "4       2013-01-15  ...  Музыка - CD фирменного производства\n",
              "...            ...  ...                                  ...\n",
              "2935844 2015-10-10  ...  Музыка - CD локального производства\n",
              "2935845 2015-10-09  ...  Музыка - CD локального производства\n",
              "2935846 2015-10-14  ...  Музыка - CD локального производства\n",
              "2935847 2015-10-22  ...                         Музыка - MP3\n",
              "2935848 2015-10-03  ...  Музыка - CD локального производства\n",
              "\n",
              "[2935842 rows x 10 columns]"
            ]
          },
          "metadata": {},
          "execution_count": 65
        }
      ]
    },
    {
      "cell_type": "markdown",
      "metadata": {
        "id": "1Crsg0PXUoU6"
      },
      "source": [
        "Now, from the dataset obtained after leakage let's drop the text columns since they aren't of much use now. "
      ]
    },
    {
      "cell_type": "code",
      "metadata": {
        "id": "r6TbslvIBhcF"
      },
      "source": [
        "train_monthly = lk_train[['date', 'date_block_num', 'shop_id', 'item_id', 'item_price', 'item_cnt_day']]"
      ],
      "execution_count": null,
      "outputs": []
    },
    {
      "cell_type": "markdown",
      "metadata": {
        "id": "cxTMZKncV1oB"
      },
      "source": [
        "_________________________________________________________________________________"
      ]
    },
    {
      "cell_type": "markdown",
      "metadata": {
        "id": "bvRl5C_fZmFO"
      },
      "source": [
        "##item_id based EDA:"
      ]
    },
    {
      "cell_type": "markdown",
      "metadata": {
        "id": "WLshXbI_U-Z-"
      },
      "source": [
        "Now, for a second let's look at \n",
        "1. How the monthly sum and mean vary for with item_id for each month\n",
        "2. the outdated items, over perhaps the last 6 months."
      ]
    },
    {
      "cell_type": "code",
      "metadata": {
        "colab": {
          "base_uri": "https://localhost:8080/",
          "height": 283
        },
        "id": "tXkTEkfpVDlb",
        "outputId": "71bf09a2-f838-47d3-8be0-3ac76831a4ae"
      },
      "source": [
        "train_by_item_id = train.pivot_table(index=['item_id'],values=['item_cnt_day'], \n",
        "                                        columns='date_block_num', aggfunc=np.sum, fill_value=0).reset_index()\n",
        "train_by_item_id.columns = train_by_item_id.columns.droplevel().map(str)\n",
        "train_by_item_id = train_by_item_id.reset_index(drop=True).rename_axis(None, axis=1)\n",
        "train_by_item_id.columns.values[0] = 'item_id'\n",
        "train_by_item_id.sum()[1:].plot(legend=True, label=\"Monthly sum\")"
      ],
      "execution_count": null,
      "outputs": [
        {
          "output_type": "execute_result",
          "data": {
            "text/plain": [
              "<matplotlib.axes._subplots.AxesSubplot at 0x7eff136e3d10>"
            ]
          },
          "metadata": {},
          "execution_count": 71
        },
        {
          "output_type": "display_data",
          "data": {
            "image/png": "[encoded data removed]",
            "text/plain": [
              "<Figure size 432x288 with 1 Axes>"
            ]
          },
          "metadata": {
            "needs_background": "light"
          }
        }
      ]
    },
    {
      "cell_type": "code",
      "metadata": {
        "colab": {
          "base_uri": "https://localhost:8080/",
          "height": 283
        },
        "id": "gY29mZ4EWMHy",
        "outputId": "6deb592e-c120-4e15-9e93-4a8014af07db"
      },
      "source": [
        "train_by_item_id.mean()[1:].plot(legend=True, label=\"Monthly mean\")"
      ],
      "execution_count": null,
      "outputs": [
        {
          "output_type": "execute_result",
          "data": {
            "text/plain": [
              "<matplotlib.axes._subplots.AxesSubplot at 0x7eff14d593d0>"
            ]
          },
          "metadata": {},
          "execution_count": 72
        },
        {
          "output_type": "display_data",
          "data": {
            "image/png": "[encoded data removed]",
            "text/plain": [
              "<Figure size 432x288 with 1 Axes>"
            ]
          },
          "metadata": {
            "needs_background": "light"
          }
        }
      ]
    },
    {
      "cell_type": "code",
      "metadata": {
        "colab": {
          "base_uri": "https://localhost:8080/"
        },
        "id": "80PjS6NBXqFQ",
        "outputId": "4c3514c9-76c5-43bc-a7d2-d3924b981964"
      },
      "source": [
        "train.item_id.nunique()"
      ],
      "execution_count": null,
      "outputs": [
        {
          "output_type": "execute_result",
          "data": {
            "text/plain": [
              "21807"
            ]
          },
          "metadata": {},
          "execution_count": 74
        }
      ]
    },
    {
      "cell_type": "code",
      "metadata": {
        "colab": {
          "base_uri": "https://localhost:8080/"
        },
        "id": "gci-6_71XLpj",
        "outputId": "3c7acf38-8f25-45fd-a65f-7119ec0fd2b1"
      },
      "source": [
        "outdated_items = train_by_item_id[train_by_item_id.loc[:,'27':].sum(axis=1)==0] ##outdated after month 27 in our 34 month window\n",
        "print('Outdated items:', len(outdated_items))"
      ],
      "execution_count": null,
      "outputs": [
        {
          "output_type": "stream",
          "name": "stdout",
          "text": [
            "Outdated items: 12391\n"
          ]
        }
      ]
    },
    {
      "cell_type": "code",
      "metadata": {
        "colab": {
          "base_uri": "https://localhost:8080/"
        },
        "id": "BLZD0TSkX-yF",
        "outputId": "6837b334-332f-4faa-d876-056756c45dec"
      },
      "source": [
        "print('Outdated items in test set:', len(test[test['item_id'].isin(outdated_items['item_id'])]))"
      ],
      "execution_count": null,
      "outputs": [
        {
          "output_type": "stream",
          "name": "stdout",
          "text": [
            "Outdated items in test set: 6888\n"
          ]
        }
      ]
    },
    {
      "cell_type": "markdown",
      "metadata": {
        "id": "npTfYX6VZr6W"
      },
      "source": [
        "###Possible Features:\n",
        "1. Neighbouring items in item_id are often quite similar. \n",
        "2. Recent sales \n",
        "3. Lags\n",
        "4. Release Date"
      ]
    },
    {
      "cell_type": "markdown",
      "metadata": {
        "id": "kQkia_LFWd_t"
      },
      "source": [
        "### insights:\n",
        "1. There are no missing values at all. (so far)\n",
        "2. Number of sold items usually declines over the year. \n",
        "3. There are peaks in November and similar item count zig-zag behavior can be seen in June-July-August. This can be due to these periods being vacation time or possibly a [national holiday](https://en.wikipedia.org/wiki/Public_holidays_in_Russia).\n",
        "4. 12391 of 21807 items in the train set are outdated since the last 6 months, which is quite huge, to say the least. \n",
        "5. Now, in the test set \n"
      ]
    },
    {
      "cell_type": "markdown",
      "metadata": {
        "id": "jLD-MArRY0U0"
      },
      "source": [
        "Now, identifying the outliers."
      ]
    },
    {
      "cell_type": "code",
      "metadata": {
        "colab": {
          "base_uri": "https://localhost:8080/",
          "height": 579
        },
        "id": "z1q8ER-UYv0z",
        "outputId": "5aae2543-efb5-439e-b20b-e141fe01f8b6"
      },
      "source": [
        "\n",
        "plt.figure(figsize=(10,4))\n",
        "plt.xlim(-100, 3000)\n",
        "sns.boxplot(x=train['item_cnt_day'])\n",
        "print('Item Sale outliers:',train['item_id'][train['item_cnt_day']>500].unique())\n",
        "\n",
        "plt.figure(figsize=(10,4))\n",
        "plt.xlim(train['item_price'].min(), train['item_price'].max())\n",
        "sns.boxplot(x=train['item_price'])\n",
        "print('Item price outliers:',train['item_id'][train['item_price']>50000].unique())"
      ],
      "execution_count": null,
      "outputs": [
        {
          "output_type": "stream",
          "name": "stdout",
          "text": [
            "Item Sale outliers: [ 8057 20949  9242 19437  3731 11373  9249  9248]\n",
            "Item price outliers: [11365  6066 13199]\n"
          ]
        },
        {
          "output_type": "display_data",
          "data": {
            "image/png": "[encoded data removed]",
            "text/plain": [
              "<Figure size 720x288 with 1 Axes>"
            ]
          },
          "metadata": {
            "needs_background": "light"
          }
        },
        {
          "output_type": "display_data",
          "data": {
            "image/png": "[encoded data removed]",
            "text/plain": [
              "<Figure size 720x288 with 1 Axes>"
            ]
          },
          "metadata": {
            "needs_background": "light"
          }
        }
      ]
    },
    {
      "cell_type": "code",
      "metadata": {
        "id": "a8zfUbxaVfIG"
      },
      "source": [
        ""
      ],
      "execution_count": null,
      "outputs": []
    },
    {
      "cell_type": "markdown",
      "metadata": {
        "id": "JpHN7H_qbJe3"
      },
      "source": [
        "##shop_id based EDA"
      ]
    },
    {
      "cell_type": "code",
      "metadata": {
        "colab": {
          "base_uri": "https://localhost:8080/"
        },
        "id": "A0ScLQBqbSjO",
        "outputId": "5b5ceb7e-fce7-4071-fa04-19dddfeaebb4"
      },
      "source": [
        "train_by_shop_id = train.pivot_table(index=['shop_id'],values=['item_cnt_day'], \n",
        "                                        columns='date_block_num', aggfunc=np.sum, fill_value=0).reset_index()\n",
        "train_by_shop_id.columns = train_by_shop_id.columns.droplevel().map(str)\n",
        "train_by_shop_id = train_by_shop_id.reset_index(drop=True).rename_axis(None, axis=1)\n",
        "train_by_shop_id.columns.values[0] = 'shop_id'\n",
        "\n",
        "for i in range(6,34):\n",
        "    print('Not exists in month',i,train_by_shop_id['shop_id'][train_by_shop_id.loc[:,'0':str(i)].sum(axis=1)==0].unique())\n",
        "\n",
        "for i in range(6,28):\n",
        "    print('Shop is outdated for month',i,train_by_shop_id['shop_id'][train_by_shop_id.loc[:,str(i):].sum(axis=1)==0].unique())"
      ],
      "execution_count": null,
      "outputs": [
        {
          "output_type": "stream",
          "name": "stdout",
          "text": [
            "Not exists in month 6 [ 9 11 20 33 34 36 39 40 48 49]\n",
            "Not exists in month 7 [ 9 11 20 33 34 36 39 40 48 49]\n",
            "Not exists in month 8 [ 9 11 20 33 34 36 39 40 48 49]\n",
            "Not exists in month 9 [11 20 33 34 36 39 40 48 49]\n",
            "Not exists in month 10 [11 20 33 34 36 39 40 48 49]\n",
            "Not exists in month 11 [11 20 33 34 36 39 40 48]\n",
            "Not exists in month 12 [11 20 33 34 36 39 40 48]\n",
            "Not exists in month 13 [11 20 33 34 36 39 40 48]\n",
            "Not exists in month 14 [11 20 33 34 36 48]\n",
            "Not exists in month 15 [11 20 33 34 36]\n",
            "Not exists in month 16 [11 20 33 34 36]\n",
            "Not exists in month 17 [11 20 33 34 36]\n",
            "Not exists in month 18 [11 20 33 36]\n",
            "Not exists in month 19 [11 20 36]\n",
            "Not exists in month 20 [11 20 36]\n",
            "Not exists in month 21 [11 36]\n",
            "Not exists in month 22 [11 36]\n",
            "Not exists in month 23 [11 36]\n",
            "Not exists in month 24 [11 36]\n",
            "Not exists in month 25 [36]\n",
            "Not exists in month 26 [36]\n",
            "Not exists in month 27 [36]\n",
            "Not exists in month 28 [36]\n",
            "Not exists in month 29 [36]\n",
            "Not exists in month 30 [36]\n",
            "Not exists in month 31 [36]\n",
            "Not exists in month 32 [36]\n",
            "Not exists in month 33 []\n",
            "Shop is outdated for month 6 [ 0  1  8 23]\n",
            "Shop is outdated for month 7 [ 0  1  8 23 32]\n",
            "Shop is outdated for month 8 [ 0  1  8 23 32]\n",
            "Shop is outdated for month 9 [ 0  1  8 23 32]\n",
            "Shop is outdated for month 10 [ 0  1  8 23 32]\n",
            "Shop is outdated for month 11 [ 0  1  8 23 32]\n",
            "Shop is outdated for month 12 [ 0  1  8 23 32]\n",
            "Shop is outdated for month 13 [ 0  1  8 23 32]\n",
            "Shop is outdated for month 14 [ 0  1  8 23 32]\n",
            "Shop is outdated for month 15 [ 0  1  8 23 32]\n",
            "Shop is outdated for month 16 [ 0  1  8 23 32]\n",
            "Shop is outdated for month 17 [ 0  1  8 23 32]\n",
            "Shop is outdated for month 18 [ 0  1  8 23 32]\n",
            "Shop is outdated for month 19 [ 0  1  8 23 32]\n",
            "Shop is outdated for month 20 [ 0  1  8 13 23 32]\n",
            "Shop is outdated for month 21 [ 0  1  8 13 23 32]\n",
            "Shop is outdated for month 22 [ 0  1  8 13 23 32]\n",
            "Shop is outdated for month 23 [ 0  1  8 13 23 32]\n",
            "Shop is outdated for month 24 [ 0  1  8 13 23 32]\n",
            "Shop is outdated for month 25 [ 0  1  8 13 17 23 32 40 43]\n",
            "Shop is outdated for month 26 [ 0  1  8 11 13 17 23 30 32 40 43]\n",
            "Shop is outdated for month 27 [ 0  1  8 11 13 17 23 30 32 40 43]\n"
          ]
        }
      ]
    },
    {
      "cell_type": "code",
      "metadata": {
        "colab": {
          "base_uri": "https://localhost:8080/"
        },
        "id": "JOUCElFMb4up",
        "outputId": "c53e3366-d645-4ec0-e452-e61b1a7c87b3"
      },
      "source": [
        "print('Recently opened shop items:', len(test[test['shop_id']==36])) ## note that this is from the test dataset"
      ],
      "execution_count": null,
      "outputs": [
        {
          "output_type": "stream",
          "name": "stdout",
          "text": [
            "Recently opened shop items: 5100\n"
          ]
        }
      ]
    },
    {
      "cell_type": "code",
      "metadata": {
        "id": "E51B33ZTdPSQ"
      },
      "source": [
        ""
      ],
      "execution_count": null,
      "outputs": []
    },
    {
      "cell_type": "markdown",
      "metadata": {
        "id": "9bMcHt_QdPcH"
      },
      "source": [
        "###Possible Features:\n",
        "1. When the shop was opened, opening month \n",
        "2. When the shop did get closed, closing month\n",
        "3. Lags"
      ]
    },
    {
      "cell_type": "markdown",
      "metadata": {
        "id": "oO0vzugUdpSz"
      },
      "source": [
        "Possible 'Date' features:\n",
        "\n",
        "1. Whether it's holiday season or vacation\n",
        "2. Month Number, or value of date_block_num//12 for seasonal items \n"
      ]
    },
    {
      "cell_type": "markdown",
      "metadata": {
        "id": "FY3Db5xdfKnc"
      },
      "source": [
        "#Also, a doubt: if we take adjacent shop_id's in some cases, the name is almost the same and the location seems different , is there anything we can do with that?"
      ]
    },
    {
      "cell_type": "code",
      "metadata": {
        "id": "jMe3prGeffZh"
      },
      "source": [
        "train_monthly = lk_train[['date', 'date_block_num', 'shop_id', 'item_category_id', 'item_id', 'item_price', 'item_cnt_day']]"
      ],
      "execution_count": null,
      "outputs": []
    },
    {
      "cell_type": "code",
      "metadata": {
        "id": "hRYdYgnqBvE9"
      },
      "source": [
        "# Group by month in this case \"date_block_num\" and aggregate features.\n",
        "train_monthly = train_monthly.sort_values('date').groupby(['date_block_num', 'shop_id', 'item_category_id', 'item_id'], as_index=False)\n",
        "train_monthly = train_monthly.agg({'item_price':['sum', 'mean'], 'item_cnt_day':['sum', 'mean','count']})\n",
        "# Rename features.\n",
        "train_monthly.columns = ['date_block_num', 'shop_id', 'item_category_id', 'item_id', 'item_price', 'mean_item_price', 'item_cnt', 'mean_item_cnt', 'transactions']"
      ],
      "execution_count": null,
      "outputs": []
    },
    {
      "cell_type": "code",
      "metadata": {
        "id": "_NhWntYNCMB7"
      },
      "source": [
        "# Build a data set with all the possible combinations of ['date_block_num','shop_id','item_id'] so we won't have missing records.\n",
        "shop_ids = train_monthly['shop_id'].unique()\n",
        "item_ids = train_monthly['item_id'].unique()\n",
        "empty_df = []\n",
        "for i in range(34):\n",
        "    for shop in shop_ids:\n",
        "        for item in item_ids:\n",
        "            empty_df.append([i, shop, item])\n",
        "    \n",
        "empty_df = pd.DataFrame(empty_df, columns=['date_block_num','shop_id','item_id'])"
      ],
      "execution_count": null,
      "outputs": []
    },
    {
      "cell_type": "code",
      "metadata": {
        "id": "NKSlCs59CYnD"
      },
      "source": [
        " #Merge the train set with the complete set (missing records will be filled with 0).\n",
        "train_monthly = pd.merge(empty_df, train_monthly, on=['date_block_num','shop_id','item_id'], how='left')\n",
        "train_monthly.fillna(0, inplace=True)\n"
      ],
      "execution_count": null,
      "outputs": []
    },
    {
      "cell_type": "code",
      "metadata": {
        "colab": {
          "base_uri": "https://localhost:8080/",
          "height": 206
        },
        "id": "iwEzUGk9R0IY",
        "outputId": "bdf5cff9-5b34-4a15-f6ce-8ad06e3c3036"
      },
      "source": [
        "train_monthly.head()"
      ],
      "execution_count": null,
      "outputs": [
        {
          "output_type": "execute_result",
          "data": {
            "text/html": [
              "<div>\n",
              "<style scoped>\n",
              "    .dataframe tbody tr th:only-of-type {\n",
              "        vertical-align: middle;\n",
              "    }\n",
              "\n",
              "    .dataframe tbody tr th {\n",
              "        vertical-align: top;\n",
              "    }\n",
              "\n",
              "    .dataframe thead th {\n",
              "        text-align: right;\n",
              "    }\n",
              "</style>\n",
              "<table border=\"1\" class=\"dataframe\">\n",
              "  <thead>\n",
              "    <tr style=\"text-align: right;\">\n",
              "      <th></th>\n",
              "      <th>date_block_num</th>\n",
              "      <th>shop_id</th>\n",
              "      <th>item_id</th>\n",
              "      <th>item_category_id</th>\n",
              "      <th>item_price</th>\n",
              "      <th>mean_item_price</th>\n",
              "      <th>item_cnt</th>\n",
              "      <th>mean_item_cnt</th>\n",
              "      <th>transactions</th>\n",
              "    </tr>\n",
              "  </thead>\n",
              "  <tbody>\n",
              "    <tr>\n",
              "      <th>0</th>\n",
              "      <td>0</td>\n",
              "      <td>2</td>\n",
              "      <td>5572</td>\n",
              "      <td>2.0</td>\n",
              "      <td>10730.00</td>\n",
              "      <td>1532.857143</td>\n",
              "      <td>9.0</td>\n",
              "      <td>1.285714</td>\n",
              "      <td>7.0</td>\n",
              "    </tr>\n",
              "    <tr>\n",
              "      <th>1</th>\n",
              "      <td>0</td>\n",
              "      <td>2</td>\n",
              "      <td>5643</td>\n",
              "      <td>2.0</td>\n",
              "      <td>4775.21</td>\n",
              "      <td>2387.605000</td>\n",
              "      <td>0.0</td>\n",
              "      <td>0.000000</td>\n",
              "      <td>2.0</td>\n",
              "    </tr>\n",
              "    <tr>\n",
              "      <th>2</th>\n",
              "      <td>0</td>\n",
              "      <td>2</td>\n",
              "      <td>5583</td>\n",
              "      <td>5.0</td>\n",
              "      <td>1188.30</td>\n",
              "      <td>594.150000</td>\n",
              "      <td>2.0</td>\n",
              "      <td>1.000000</td>\n",
              "      <td>2.0</td>\n",
              "    </tr>\n",
              "    <tr>\n",
              "      <th>3</th>\n",
              "      <td>0</td>\n",
              "      <td>2</td>\n",
              "      <td>7893</td>\n",
              "      <td>6.0</td>\n",
              "      <td>5970.00</td>\n",
              "      <td>1990.000000</td>\n",
              "      <td>3.0</td>\n",
              "      <td>1.000000</td>\n",
              "      <td>3.0</td>\n",
              "    </tr>\n",
              "    <tr>\n",
              "      <th>4</th>\n",
              "      <td>0</td>\n",
              "      <td>2</td>\n",
              "      <td>7894</td>\n",
              "      <td>6.0</td>\n",
              "      <td>1490.00</td>\n",
              "      <td>1490.000000</td>\n",
              "      <td>1.0</td>\n",
              "      <td>1.000000</td>\n",
              "      <td>1.0</td>\n",
              "    </tr>\n",
              "  </tbody>\n",
              "</table>\n",
              "</div>"
            ],
            "text/plain": [
              "   date_block_num  shop_id  item_id  ...  item_cnt  mean_item_cnt  transactions\n",
              "0               0        2     5572  ...       9.0       1.285714           7.0\n",
              "1               0        2     5643  ...       0.0       0.000000           2.0\n",
              "2               0        2     5583  ...       2.0       1.000000           2.0\n",
              "3               0        2     7893  ...       3.0       1.000000           3.0\n",
              "4               0        2     7894  ...       1.0       1.000000           1.0\n",
              "\n",
              "[5 rows x 9 columns]"
            ]
          },
          "metadata": {},
          "execution_count": 87
        }
      ]
    },
    {
      "cell_type": "code",
      "metadata": {
        "colab": {
          "base_uri": "https://localhost:8080/",
          "height": 300
        },
        "id": "vR0iiokpSHGy",
        "outputId": "282b05d7-ca4c-425a-fc8a-4951a028ce56"
      },
      "source": [
        "train_monthly.describe()"
      ],
      "execution_count": null,
      "outputs": [
        {
          "output_type": "execute_result",
          "data": {
            "text/html": [
              "<div>\n",
              "<style scoped>\n",
              "    .dataframe tbody tr th:only-of-type {\n",
              "        vertical-align: middle;\n",
              "    }\n",
              "\n",
              "    .dataframe tbody tr th {\n",
              "        vertical-align: top;\n",
              "    }\n",
              "\n",
              "    .dataframe thead th {\n",
              "        text-align: right;\n",
              "    }\n",
              "</style>\n",
              "<table border=\"1\" class=\"dataframe\">\n",
              "  <thead>\n",
              "    <tr style=\"text-align: right;\">\n",
              "      <th></th>\n",
              "      <th>date_block_num</th>\n",
              "      <th>shop_id</th>\n",
              "      <th>item_id</th>\n",
              "      <th>item_category_id</th>\n",
              "      <th>item_price</th>\n",
              "      <th>mean_item_price</th>\n",
              "      <th>item_cnt</th>\n",
              "      <th>mean_item_cnt</th>\n",
              "      <th>transactions</th>\n",
              "    </tr>\n",
              "  </thead>\n",
              "  <tbody>\n",
              "    <tr>\n",
              "      <th>count</th>\n",
              "      <td>6.734448e+06</td>\n",
              "      <td>6.734448e+06</td>\n",
              "      <td>6.734448e+06</td>\n",
              "      <td>6.734448e+06</td>\n",
              "      <td>6.734448e+06</td>\n",
              "      <td>6.734448e+06</td>\n",
              "      <td>6.734448e+06</td>\n",
              "      <td>6.734448e+06</td>\n",
              "      <td>6.734448e+06</td>\n",
              "    </tr>\n",
              "    <tr>\n",
              "      <th>mean</th>\n",
              "      <td>1.650000e+01</td>\n",
              "      <td>3.164286e+01</td>\n",
              "      <td>1.104189e+04</td>\n",
              "      <td>3.786271e+00</td>\n",
              "      <td>1.873922e+02</td>\n",
              "      <td>8.123012e+01</td>\n",
              "      <td>2.402225e-01</td>\n",
              "      <td>9.729913e-02</td>\n",
              "      <td>1.818165e-01</td>\n",
              "    </tr>\n",
              "    <tr>\n",
              "      <th>std</th>\n",
              "      <td>9.810709e+00</td>\n",
              "      <td>1.756189e+01</td>\n",
              "      <td>6.210744e+03</td>\n",
              "      <td>1.321296e+01</td>\n",
              "      <td>2.177442e+03</td>\n",
              "      <td>5.347327e+02</td>\n",
              "      <td>3.456639e+00</td>\n",
              "      <td>6.122031e-01</td>\n",
              "      <td>9.047315e-01</td>\n",
              "    </tr>\n",
              "    <tr>\n",
              "      <th>min</th>\n",
              "      <td>0.000000e+00</td>\n",
              "      <td>2.000000e+00</td>\n",
              "      <td>3.000000e+01</td>\n",
              "      <td>0.000000e+00</td>\n",
              "      <td>0.000000e+00</td>\n",
              "      <td>0.000000e+00</td>\n",
              "      <td>-4.000000e+00</td>\n",
              "      <td>-2.000000e+00</td>\n",
              "      <td>0.000000e+00</td>\n",
              "    </tr>\n",
              "    <tr>\n",
              "      <th>25%</th>\n",
              "      <td>8.000000e+00</td>\n",
              "      <td>1.600000e+01</td>\n",
              "      <td>5.385250e+03</td>\n",
              "      <td>0.000000e+00</td>\n",
              "      <td>0.000000e+00</td>\n",
              "      <td>0.000000e+00</td>\n",
              "      <td>0.000000e+00</td>\n",
              "      <td>0.000000e+00</td>\n",
              "      <td>0.000000e+00</td>\n",
              "    </tr>\n",
              "    <tr>\n",
              "      <th>50%</th>\n",
              "      <td>1.650000e+01</td>\n",
              "      <td>3.450000e+01</td>\n",
              "      <td>1.126550e+04</td>\n",
              "      <td>0.000000e+00</td>\n",
              "      <td>0.000000e+00</td>\n",
              "      <td>0.000000e+00</td>\n",
              "      <td>0.000000e+00</td>\n",
              "      <td>0.000000e+00</td>\n",
              "      <td>0.000000e+00</td>\n",
              "    </tr>\n",
              "    <tr>\n",
              "      <th>75%</th>\n",
              "      <td>2.500000e+01</td>\n",
              "      <td>4.700000e+01</td>\n",
              "      <td>1.606825e+04</td>\n",
              "      <td>0.000000e+00</td>\n",
              "      <td>0.000000e+00</td>\n",
              "      <td>0.000000e+00</td>\n",
              "      <td>0.000000e+00</td>\n",
              "      <td>0.000000e+00</td>\n",
              "      <td>0.000000e+00</td>\n",
              "    </tr>\n",
              "    <tr>\n",
              "      <th>max</th>\n",
              "      <td>3.300000e+01</td>\n",
              "      <td>5.900000e+01</td>\n",
              "      <td>2.216700e+04</td>\n",
              "      <td>8.300000e+01</td>\n",
              "      <td>5.155736e+05</td>\n",
              "      <td>4.299000e+04</td>\n",
              "      <td>2.253000e+03</td>\n",
              "      <td>1.000000e+03</td>\n",
              "      <td>3.100000e+01</td>\n",
              "    </tr>\n",
              "  </tbody>\n",
              "</table>\n",
              "</div>"
            ],
            "text/plain": [
              "       date_block_num       shop_id  ...  mean_item_cnt  transactions\n",
              "count    6.734448e+06  6.734448e+06  ...   6.734448e+06  6.734448e+06\n",
              "mean     1.650000e+01  3.164286e+01  ...   9.729913e-02  1.818165e-01\n",
              "std      9.810709e+00  1.756189e+01  ...   6.122031e-01  9.047315e-01\n",
              "min      0.000000e+00  2.000000e+00  ...  -2.000000e+00  0.000000e+00\n",
              "25%      8.000000e+00  1.600000e+01  ...   0.000000e+00  0.000000e+00\n",
              "50%      1.650000e+01  3.450000e+01  ...   0.000000e+00  0.000000e+00\n",
              "75%      2.500000e+01  4.700000e+01  ...   0.000000e+00  0.000000e+00\n",
              "max      3.300000e+01  5.900000e+01  ...   1.000000e+03  3.100000e+01\n",
              "\n",
              "[8 rows x 9 columns]"
            ]
          },
          "metadata": {},
          "execution_count": 88
        }
      ]
    },
    {
      "cell_type": "code",
      "metadata": {
        "id": "-_lJLXhXSNzx"
      },
      "source": [
        "##date_block_num covers a window of 34 months and takes values from 0 to 33, so to extract some 'monthly' features\n",
        "gp_month_mean = train_monthly.groupby(['month'], as_index=False)['item_cnt'].mean()\n",
        "train_monthly['month'] = train_monthly['date_block_num'].apply(lambda x: (x % 12)) \n",
        "gp_month_sum = train_monthly.groupby(['month'], as_index=False)['item_cnt'].sum()\n",
        "gp_category_mean = train_monthly.groupby(['item_category_id'], as_index=False)['item_cnt'].mean()\n",
        "gp_category_sum = train_monthly.groupby(['item_category_id'], as_index=False)['item_cnt'].sum()\n",
        "gp_shop_mean = train_monthly.groupby(['shop_id'], as_index=False)['item_cnt'].mean()\n",
        "gp_shop_sum = train_monthly.groupby(['shop_id'], as_index=False)['item_cnt'].sum()"
      ],
      "execution_count": null,
      "outputs": []
    },
    {
      "cell_type": "code",
      "metadata": {
        "colab": {
          "base_uri": "https://localhost:8080/",
          "height": 621
        },
        "id": "F-Qgv6DzRnpz",
        "outputId": "c38e74ea-2a51-43d9-f168-4d3143963025"
      },
      "source": [
        "f, axes = plt.subplots(2, 1, figsize=(22, 10), sharex=True)\n",
        "sns.lineplot(x=\"month\", y=\"item_cnt\", data=gp_month_mean, ax=axes[0]).set_title(\"Monthly mean\")\n",
        "sns.lineplot(x=\"month\", y=\"item_cnt\", data=gp_month_sum, ax=axes[1]).set_title(\"Monthly sum\")\n",
        "plt.show()"
      ],
      "execution_count": null,
      "outputs": [
        {
          "output_type": "display_data",
          "data": {
            "image/png": "[encoded data removed]",
            "text/plain": [
              "<Figure size 1584x720 with 2 Axes>"
            ]
          },
          "metadata": {
            "needs_background": "light"
          }
        }
      ]
    },
    {
      "cell_type": "markdown",
      "metadata": {
        "id": "llJ1KjVYvPYT"
      },
      "source": [
        "###Let's do more of a Bar Graph Analysis now. "
      ]
    },
    {
      "cell_type": "markdown",
      "metadata": {
        "id": "HViIIcMouxZS"
      },
      "source": [
        "###Which category sells more?"
      ]
    },
    {
      "cell_type": "code",
      "metadata": {
        "colab": {
          "base_uri": "https://localhost:8080/",
          "height": 622
        },
        "id": "We7_WdIUuf2i",
        "outputId": "4519af89-dbe1-43a6-efa8-fc040479e25b"
      },
      "source": [
        "f, axes = plt.subplots(2, 1, figsize=(22, 10), sharex=True)\n",
        "sns.barplot(x=\"item_category_id\", y=\"item_cnt\", data=gp_category_mean, ax=axes[0], palette=\"rocket\").set_title(\"Monthly mean\")\n",
        "sns.barplot(x=\"item_category_id\", y=\"item_cnt\", data=gp_category_sum, ax=axes[1], palette=\"rocket\").set_title(\"Monthly sum\")\n",
        "plt.show()"
      ],
      "execution_count": null,
      "outputs": [
        {
          "output_type": "display_data",
          "data": {
            "image/png": "[encoded data removed]",
            "text/plain": [
              "<Figure size 1584x720 with 2 Axes>"
            ]
          },
          "metadata": {
            "needs_background": "light"
          }
        }
      ]
    },
    {
      "cell_type": "markdown",
      "metadata": {
        "id": "GvAsht6evUoX"
      },
      "source": [
        "###Which shop sold out more?"
      ]
    },
    {
      "cell_type": "code",
      "metadata": {
        "colab": {
          "base_uri": "https://localhost:8080/",
          "height": 622
        },
        "id": "oxgTivq1vYaf",
        "outputId": "4b804f46-4d7a-46b5-c7f6-c32d26b26217"
      },
      "source": [
        "f, axes = plt.subplots(2, 1, figsize=(22, 10), sharex=True)\n",
        "sns.barplot(x=\"item_category_id\", y=\"item_cnt\", data=gp_category_mean, ax=axes[0], palette=\"rocket\").set_title(\"Monthly mean\")\n",
        "sns.barplot(x=\"item_category_id\", y=\"item_cnt\", data=gp_category_sum, ax=axes[1], palette=\"rocket\").set_title(\"Monthly sum\")\n",
        "plt.show()"
      ],
      "execution_count": null,
      "outputs": [
        {
          "output_type": "display_data",
          "data": {
            "image/png": "[encoded data removed]",
            "text/plain": [
              "<Figure size 1584x720 with 2 Axes>"
            ]
          },
          "metadata": {
            "needs_background": "light"
          }
        }
      ]
    },
    {
      "cell_type": "markdown",
      "metadata": {
        "id": "C53WnS_1vwE8"
      },
      "source": [
        "Now, identifying the outliers"
      ]
    },
    {
      "cell_type": "code",
      "metadata": {
        "colab": {
          "base_uri": "https://localhost:8080/",
          "height": 579
        },
        "id": "s0QfydRuvt-2",
        "outputId": "5aae2543-efb5-439e-b20b-e141fe01f8b6"
      },
      "source": [
        "\n",
        "plt.figure(figsize=(10,4))\n",
        "plt.xlim(-100, 3000)\n",
        "sns.boxplot(x=train['item_cnt_day'])\n",
        "print('Item Sale outliers:',train['item_id'][train['item_cnt_day']>500].unique())\n",
        "\n",
        "plt.figure(figsize=(10,4))\n",
        "plt.xlim(train['item_price'].min(), train['item_price'].max())\n",
        "sns.boxplot(x=train['item_price'])\n",
        "print('Item price outliers:',train['item_id'][train['item_price']>50000].unique())"
      ],
      "execution_count": null,
      "outputs": [
        {
          "output_type": "stream",
          "name": "stdout",
          "text": [
            "Item Sale outliers: [ 8057 20949  9242 19437  3731 11373  9249  9248]\n",
            "Item price outliers: [11365  6066 13199]\n"
          ]
        },
        {
          "output_type": "display_data",
          "data": {
            "image/png": "[encoded data removed]",
            "text/plain": [
              "<Figure size 720x288 with 1 Axes>"
            ]
          },
          "metadata": {
            "needs_background": "light"
          }
        },
        {
          "output_type": "display_data",
          "data": {
            "image/png": "[encoded data removed]",
            "text/plain": [
              "<Figure size 720x288 with 1 Axes>"
            ]
          },
          "metadata": {
            "needs_background": "light"
          }
        }
      ]
    },
    {
      "cell_type": "code",
      "metadata": {
        "colab": {
          "base_uri": "https://localhost:8080/",
          "height": 424
        },
        "id": "K5QMObV9v0ex",
        "outputId": "204e670a-49b0-4463-a3df-41d677d028b5"
      },
      "source": [
        "train_monthly = train_monthly.query('item_cnt >= 0 and item_cnt <= 20 and item_price < 400000')\n",
        "train_monthly"
      ],
      "execution_count": null,
      "outputs": [
        {
          "output_type": "execute_result",
          "data": {
            "text/html": [
              "<div>\n",
              "<style scoped>\n",
              "    .dataframe tbody tr th:only-of-type {\n",
              "        vertical-align: middle;\n",
              "    }\n",
              "\n",
              "    .dataframe tbody tr th {\n",
              "        vertical-align: top;\n",
              "    }\n",
              "\n",
              "    .dataframe thead th {\n",
              "        text-align: right;\n",
              "    }\n",
              "</style>\n",
              "<table border=\"1\" class=\"dataframe\">\n",
              "  <thead>\n",
              "    <tr style=\"text-align: right;\">\n",
              "      <th></th>\n",
              "      <th>date_block_num</th>\n",
              "      <th>shop_id</th>\n",
              "      <th>item_id</th>\n",
              "      <th>item_category_id</th>\n",
              "      <th>item_price</th>\n",
              "      <th>mean_item_price</th>\n",
              "      <th>item_cnt</th>\n",
              "      <th>mean_item_cnt</th>\n",
              "      <th>transactions</th>\n",
              "      <th>month</th>\n",
              "    </tr>\n",
              "  </thead>\n",
              "  <tbody>\n",
              "    <tr>\n",
              "      <th>0</th>\n",
              "      <td>0</td>\n",
              "      <td>2</td>\n",
              "      <td>5572</td>\n",
              "      <td>2.0</td>\n",
              "      <td>10730.00</td>\n",
              "      <td>1532.857143</td>\n",
              "      <td>9.0</td>\n",
              "      <td>1.285714</td>\n",
              "      <td>7.0</td>\n",
              "      <td>0</td>\n",
              "    </tr>\n",
              "    <tr>\n",
              "      <th>1</th>\n",
              "      <td>0</td>\n",
              "      <td>2</td>\n",
              "      <td>5643</td>\n",
              "      <td>2.0</td>\n",
              "      <td>4775.21</td>\n",
              "      <td>2387.605000</td>\n",
              "      <td>0.0</td>\n",
              "      <td>0.000000</td>\n",
              "      <td>2.0</td>\n",
              "      <td>0</td>\n",
              "    </tr>\n",
              "    <tr>\n",
              "      <th>2</th>\n",
              "      <td>0</td>\n",
              "      <td>2</td>\n",
              "      <td>5583</td>\n",
              "      <td>5.0</td>\n",
              "      <td>1188.30</td>\n",
              "      <td>594.150000</td>\n",
              "      <td>2.0</td>\n",
              "      <td>1.000000</td>\n",
              "      <td>2.0</td>\n",
              "      <td>0</td>\n",
              "    </tr>\n",
              "    <tr>\n",
              "      <th>3</th>\n",
              "      <td>0</td>\n",
              "      <td>2</td>\n",
              "      <td>7893</td>\n",
              "      <td>6.0</td>\n",
              "      <td>5970.00</td>\n",
              "      <td>1990.000000</td>\n",
              "      <td>3.0</td>\n",
              "      <td>1.000000</td>\n",
              "      <td>3.0</td>\n",
              "      <td>0</td>\n",
              "    </tr>\n",
              "    <tr>\n",
              "      <th>4</th>\n",
              "      <td>0</td>\n",
              "      <td>2</td>\n",
              "      <td>7894</td>\n",
              "      <td>6.0</td>\n",
              "      <td>1490.00</td>\n",
              "      <td>1490.000000</td>\n",
              "      <td>1.0</td>\n",
              "      <td>1.000000</td>\n",
              "      <td>1.0</td>\n",
              "      <td>0</td>\n",
              "    </tr>\n",
              "    <tr>\n",
              "      <th>...</th>\n",
              "      <td>...</td>\n",
              "      <td>...</td>\n",
              "      <td>...</td>\n",
              "      <td>...</td>\n",
              "      <td>...</td>\n",
              "      <td>...</td>\n",
              "      <td>...</td>\n",
              "      <td>...</td>\n",
              "      <td>...</td>\n",
              "      <td>...</td>\n",
              "    </tr>\n",
              "    <tr>\n",
              "      <th>6734443</th>\n",
              "      <td>33</td>\n",
              "      <td>36</td>\n",
              "      <td>9103</td>\n",
              "      <td>0.0</td>\n",
              "      <td>0.00</td>\n",
              "      <td>0.000000</td>\n",
              "      <td>0.0</td>\n",
              "      <td>0.000000</td>\n",
              "      <td>0.0</td>\n",
              "      <td>9</td>\n",
              "    </tr>\n",
              "    <tr>\n",
              "      <th>6734444</th>\n",
              "      <td>33</td>\n",
              "      <td>36</td>\n",
              "      <td>9107</td>\n",
              "      <td>0.0</td>\n",
              "      <td>0.00</td>\n",
              "      <td>0.000000</td>\n",
              "      <td>0.0</td>\n",
              "      <td>0.000000</td>\n",
              "      <td>0.0</td>\n",
              "      <td>9</td>\n",
              "    </tr>\n",
              "    <tr>\n",
              "      <th>6734445</th>\n",
              "      <td>33</td>\n",
              "      <td>36</td>\n",
              "      <td>5704</td>\n",
              "      <td>0.0</td>\n",
              "      <td>0.00</td>\n",
              "      <td>0.000000</td>\n",
              "      <td>0.0</td>\n",
              "      <td>0.000000</td>\n",
              "      <td>0.0</td>\n",
              "      <td>9</td>\n",
              "    </tr>\n",
              "    <tr>\n",
              "      <th>6734446</th>\n",
              "      <td>33</td>\n",
              "      <td>36</td>\n",
              "      <td>12733</td>\n",
              "      <td>0.0</td>\n",
              "      <td>0.00</td>\n",
              "      <td>0.000000</td>\n",
              "      <td>0.0</td>\n",
              "      <td>0.000000</td>\n",
              "      <td>0.0</td>\n",
              "      <td>9</td>\n",
              "    </tr>\n",
              "    <tr>\n",
              "      <th>6734447</th>\n",
              "      <td>33</td>\n",
              "      <td>36</td>\n",
              "      <td>15925</td>\n",
              "      <td>0.0</td>\n",
              "      <td>0.00</td>\n",
              "      <td>0.000000</td>\n",
              "      <td>0.0</td>\n",
              "      <td>0.000000</td>\n",
              "      <td>0.0</td>\n",
              "      <td>9</td>\n",
              "    </tr>\n",
              "  </tbody>\n",
              "</table>\n",
              "<p>6728118 rows × 10 columns</p>\n",
              "</div>"
            ],
            "text/plain": [
              "         date_block_num  shop_id  item_id  ...  mean_item_cnt  transactions  month\n",
              "0                     0        2     5572  ...       1.285714           7.0      0\n",
              "1                     0        2     5643  ...       0.000000           2.0      0\n",
              "2                     0        2     5583  ...       1.000000           2.0      0\n",
              "3                     0        2     7893  ...       1.000000           3.0      0\n",
              "4                     0        2     7894  ...       1.000000           1.0      0\n",
              "...                 ...      ...      ...  ...            ...           ...    ...\n",
              "6734443              33       36     9103  ...       0.000000           0.0      9\n",
              "6734444              33       36     9107  ...       0.000000           0.0      9\n",
              "6734445              33       36     5704  ...       0.000000           0.0      9\n",
              "6734446              33       36    12733  ...       0.000000           0.0      9\n",
              "6734447              33       36    15925  ...       0.000000           0.0      9\n",
              "\n",
              "[6728118 rows x 10 columns]"
            ]
          },
          "metadata": {},
          "execution_count": 100
        }
      ]
    },
    {
      "cell_type": "code",
      "metadata": {
        "colab": {
          "base_uri": "https://localhost:8080/",
          "height": 424
        },
        "id": "K95YqXTB0u3S",
        "outputId": "1df1bac7-9c54-4c33-d616-ed3c0d2ad596"
      },
      "source": [
        "train_monthly['year'] = train_monthly['date_block_num'].apply(lambda x: ((x//12) + 2013))\n",
        "train_monthly"
      ],
      "execution_count": null,
      "outputs": [
        {
          "output_type": "execute_result",
          "data": {
            "text/html": [
              "<div>\n",
              "<style scoped>\n",
              "    .dataframe tbody tr th:only-of-type {\n",
              "        vertical-align: middle;\n",
              "    }\n",
              "\n",
              "    .dataframe tbody tr th {\n",
              "        vertical-align: top;\n",
              "    }\n",
              "\n",
              "    .dataframe thead th {\n",
              "        text-align: right;\n",
              "    }\n",
              "</style>\n",
              "<table border=\"1\" class=\"dataframe\">\n",
              "  <thead>\n",
              "    <tr style=\"text-align: right;\">\n",
              "      <th></th>\n",
              "      <th>date_block_num</th>\n",
              "      <th>shop_id</th>\n",
              "      <th>item_id</th>\n",
              "      <th>item_category_id</th>\n",
              "      <th>item_price</th>\n",
              "      <th>mean_item_price</th>\n",
              "      <th>item_cnt</th>\n",
              "      <th>mean_item_cnt</th>\n",
              "      <th>transactions</th>\n",
              "      <th>month</th>\n",
              "      <th>year</th>\n",
              "    </tr>\n",
              "  </thead>\n",
              "  <tbody>\n",
              "    <tr>\n",
              "      <th>0</th>\n",
              "      <td>0</td>\n",
              "      <td>2</td>\n",
              "      <td>5572</td>\n",
              "      <td>2.0</td>\n",
              "      <td>10730.00</td>\n",
              "      <td>1532.857143</td>\n",
              "      <td>9.0</td>\n",
              "      <td>1.285714</td>\n",
              "      <td>7.0</td>\n",
              "      <td>0</td>\n",
              "      <td>2013</td>\n",
              "    </tr>\n",
              "    <tr>\n",
              "      <th>1</th>\n",
              "      <td>0</td>\n",
              "      <td>2</td>\n",
              "      <td>5643</td>\n",
              "      <td>2.0</td>\n",
              "      <td>4775.21</td>\n",
              "      <td>2387.605000</td>\n",
              "      <td>0.0</td>\n",
              "      <td>0.000000</td>\n",
              "      <td>2.0</td>\n",
              "      <td>0</td>\n",
              "      <td>2013</td>\n",
              "    </tr>\n",
              "    <tr>\n",
              "      <th>2</th>\n",
              "      <td>0</td>\n",
              "      <td>2</td>\n",
              "      <td>5583</td>\n",
              "      <td>5.0</td>\n",
              "      <td>1188.30</td>\n",
              "      <td>594.150000</td>\n",
              "      <td>2.0</td>\n",
              "      <td>1.000000</td>\n",
              "      <td>2.0</td>\n",
              "      <td>0</td>\n",
              "      <td>2013</td>\n",
              "    </tr>\n",
              "    <tr>\n",
              "      <th>3</th>\n",
              "      <td>0</td>\n",
              "      <td>2</td>\n",
              "      <td>7893</td>\n",
              "      <td>6.0</td>\n",
              "      <td>5970.00</td>\n",
              "      <td>1990.000000</td>\n",
              "      <td>3.0</td>\n",
              "      <td>1.000000</td>\n",
              "      <td>3.0</td>\n",
              "      <td>0</td>\n",
              "      <td>2013</td>\n",
              "    </tr>\n",
              "    <tr>\n",
              "      <th>4</th>\n",
              "      <td>0</td>\n",
              "      <td>2</td>\n",
              "      <td>7894</td>\n",
              "      <td>6.0</td>\n",
              "      <td>1490.00</td>\n",
              "      <td>1490.000000</td>\n",
              "      <td>1.0</td>\n",
              "      <td>1.000000</td>\n",
              "      <td>1.0</td>\n",
              "      <td>0</td>\n",
              "      <td>2013</td>\n",
              "    </tr>\n",
              "    <tr>\n",
              "      <th>...</th>\n",
              "      <td>...</td>\n",
              "      <td>...</td>\n",
              "      <td>...</td>\n",
              "      <td>...</td>\n",
              "      <td>...</td>\n",
              "      <td>...</td>\n",
              "      <td>...</td>\n",
              "      <td>...</td>\n",
              "      <td>...</td>\n",
              "      <td>...</td>\n",
              "      <td>...</td>\n",
              "    </tr>\n",
              "    <tr>\n",
              "      <th>6734443</th>\n",
              "      <td>33</td>\n",
              "      <td>36</td>\n",
              "      <td>9103</td>\n",
              "      <td>0.0</td>\n",
              "      <td>0.00</td>\n",
              "      <td>0.000000</td>\n",
              "      <td>0.0</td>\n",
              "      <td>0.000000</td>\n",
              "      <td>0.0</td>\n",
              "      <td>9</td>\n",
              "      <td>2015</td>\n",
              "    </tr>\n",
              "    <tr>\n",
              "      <th>6734444</th>\n",
              "      <td>33</td>\n",
              "      <td>36</td>\n",
              "      <td>9107</td>\n",
              "      <td>0.0</td>\n",
              "      <td>0.00</td>\n",
              "      <td>0.000000</td>\n",
              "      <td>0.0</td>\n",
              "      <td>0.000000</td>\n",
              "      <td>0.0</td>\n",
              "      <td>9</td>\n",
              "      <td>2015</td>\n",
              "    </tr>\n",
              "    <tr>\n",
              "      <th>6734445</th>\n",
              "      <td>33</td>\n",
              "      <td>36</td>\n",
              "      <td>5704</td>\n",
              "      <td>0.0</td>\n",
              "      <td>0.00</td>\n",
              "      <td>0.000000</td>\n",
              "      <td>0.0</td>\n",
              "      <td>0.000000</td>\n",
              "      <td>0.0</td>\n",
              "      <td>9</td>\n",
              "      <td>2015</td>\n",
              "    </tr>\n",
              "    <tr>\n",
              "      <th>6734446</th>\n",
              "      <td>33</td>\n",
              "      <td>36</td>\n",
              "      <td>12733</td>\n",
              "      <td>0.0</td>\n",
              "      <td>0.00</td>\n",
              "      <td>0.000000</td>\n",
              "      <td>0.0</td>\n",
              "      <td>0.000000</td>\n",
              "      <td>0.0</td>\n",
              "      <td>9</td>\n",
              "      <td>2015</td>\n",
              "    </tr>\n",
              "    <tr>\n",
              "      <th>6734447</th>\n",
              "      <td>33</td>\n",
              "      <td>36</td>\n",
              "      <td>15925</td>\n",
              "      <td>0.0</td>\n",
              "      <td>0.00</td>\n",
              "      <td>0.000000</td>\n",
              "      <td>0.0</td>\n",
              "      <td>0.000000</td>\n",
              "      <td>0.0</td>\n",
              "      <td>9</td>\n",
              "      <td>2015</td>\n",
              "    </tr>\n",
              "  </tbody>\n",
              "</table>\n",
              "<p>6728118 rows × 11 columns</p>\n",
              "</div>"
            ],
            "text/plain": [
              "         date_block_num  shop_id  item_id  ...  transactions  month  year\n",
              "0                     0        2     5572  ...           7.0      0  2013\n",
              "1                     0        2     5643  ...           2.0      0  2013\n",
              "2                     0        2     5583  ...           2.0      0  2013\n",
              "3                     0        2     7893  ...           3.0      0  2013\n",
              "4                     0        2     7894  ...           1.0      0  2013\n",
              "...                 ...      ...      ...  ...           ...    ...   ...\n",
              "6734443              33       36     9103  ...           0.0      9  2015\n",
              "6734444              33       36     9107  ...           0.0      9  2015\n",
              "6734445              33       36     5704  ...           0.0      9  2015\n",
              "6734446              33       36    12733  ...           0.0      9  2015\n",
              "6734447              33       36    15925  ...           0.0      9  2015\n",
              "\n",
              "[6728118 rows x 11 columns]"
            ]
          },
          "metadata": {},
          "execution_count": 102
        }
      ]
    },
    {
      "cell_type": "code",
      "metadata": {
        "colab": {
          "base_uri": "https://localhost:8080/",
          "height": 424
        },
        "id": "eiS0dluc4vPG",
        "outputId": "6c5f531b-bf00-40f5-a460-bf3a266e9088"
      },
      "source": [
        "train_monthly['item_cnt_month'] = train_monthly.sort_values('date_block_num').groupby(['shop_id', 'item_id'])['item_cnt'].shift(-1) ##since it's a forecast problem\n",
        "train_monthly"
      ],
      "execution_count": null,
      "outputs": [
        {
          "output_type": "execute_result",
          "data": {
            "text/html": [
              "<div>\n",
              "<style scoped>\n",
              "    .dataframe tbody tr th:only-of-type {\n",
              "        vertical-align: middle;\n",
              "    }\n",
              "\n",
              "    .dataframe tbody tr th {\n",
              "        vertical-align: top;\n",
              "    }\n",
              "\n",
              "    .dataframe thead th {\n",
              "        text-align: right;\n",
              "    }\n",
              "</style>\n",
              "<table border=\"1\" class=\"dataframe\">\n",
              "  <thead>\n",
              "    <tr style=\"text-align: right;\">\n",
              "      <th></th>\n",
              "      <th>date_block_num</th>\n",
              "      <th>shop_id</th>\n",
              "      <th>item_id</th>\n",
              "      <th>item_category_id</th>\n",
              "      <th>item_price</th>\n",
              "      <th>mean_item_price</th>\n",
              "      <th>item_cnt</th>\n",
              "      <th>mean_item_cnt</th>\n",
              "      <th>transactions</th>\n",
              "      <th>month</th>\n",
              "      <th>year</th>\n",
              "      <th>item_cnt_month</th>\n",
              "    </tr>\n",
              "  </thead>\n",
              "  <tbody>\n",
              "    <tr>\n",
              "      <th>0</th>\n",
              "      <td>0</td>\n",
              "      <td>2</td>\n",
              "      <td>5572</td>\n",
              "      <td>2.0</td>\n",
              "      <td>10730.00</td>\n",
              "      <td>1532.857143</td>\n",
              "      <td>9.0</td>\n",
              "      <td>1.285714</td>\n",
              "      <td>7.0</td>\n",
              "      <td>0</td>\n",
              "      <td>2013</td>\n",
              "      <td>1.0</td>\n",
              "    </tr>\n",
              "    <tr>\n",
              "      <th>1</th>\n",
              "      <td>0</td>\n",
              "      <td>2</td>\n",
              "      <td>5643</td>\n",
              "      <td>2.0</td>\n",
              "      <td>4775.21</td>\n",
              "      <td>2387.605000</td>\n",
              "      <td>0.0</td>\n",
              "      <td>0.000000</td>\n",
              "      <td>2.0</td>\n",
              "      <td>0</td>\n",
              "      <td>2013</td>\n",
              "      <td>0.0</td>\n",
              "    </tr>\n",
              "    <tr>\n",
              "      <th>2</th>\n",
              "      <td>0</td>\n",
              "      <td>2</td>\n",
              "      <td>5583</td>\n",
              "      <td>5.0</td>\n",
              "      <td>1188.30</td>\n",
              "      <td>594.150000</td>\n",
              "      <td>2.0</td>\n",
              "      <td>1.000000</td>\n",
              "      <td>2.0</td>\n",
              "      <td>0</td>\n",
              "      <td>2013</td>\n",
              "      <td>1.0</td>\n",
              "    </tr>\n",
              "    <tr>\n",
              "      <th>3</th>\n",
              "      <td>0</td>\n",
              "      <td>2</td>\n",
              "      <td>7893</td>\n",
              "      <td>6.0</td>\n",
              "      <td>5970.00</td>\n",
              "      <td>1990.000000</td>\n",
              "      <td>3.0</td>\n",
              "      <td>1.000000</td>\n",
              "      <td>3.0</td>\n",
              "      <td>0</td>\n",
              "      <td>2013</td>\n",
              "      <td>2.0</td>\n",
              "    </tr>\n",
              "    <tr>\n",
              "      <th>4</th>\n",
              "      <td>0</td>\n",
              "      <td>2</td>\n",
              "      <td>7894</td>\n",
              "      <td>6.0</td>\n",
              "      <td>1490.00</td>\n",
              "      <td>1490.000000</td>\n",
              "      <td>1.0</td>\n",
              "      <td>1.000000</td>\n",
              "      <td>1.0</td>\n",
              "      <td>0</td>\n",
              "      <td>2013</td>\n",
              "      <td>2.0</td>\n",
              "    </tr>\n",
              "    <tr>\n",
              "      <th>...</th>\n",
              "      <td>...</td>\n",
              "      <td>...</td>\n",
              "      <td>...</td>\n",
              "      <td>...</td>\n",
              "      <td>...</td>\n",
              "      <td>...</td>\n",
              "      <td>...</td>\n",
              "      <td>...</td>\n",
              "      <td>...</td>\n",
              "      <td>...</td>\n",
              "      <td>...</td>\n",
              "      <td>...</td>\n",
              "    </tr>\n",
              "    <tr>\n",
              "      <th>6734443</th>\n",
              "      <td>33</td>\n",
              "      <td>36</td>\n",
              "      <td>9103</td>\n",
              "      <td>0.0</td>\n",
              "      <td>0.00</td>\n",
              "      <td>0.000000</td>\n",
              "      <td>0.0</td>\n",
              "      <td>0.000000</td>\n",
              "      <td>0.0</td>\n",
              "      <td>9</td>\n",
              "      <td>2015</td>\n",
              "      <td>NaN</td>\n",
              "    </tr>\n",
              "    <tr>\n",
              "      <th>6734444</th>\n",
              "      <td>33</td>\n",
              "      <td>36</td>\n",
              "      <td>9107</td>\n",
              "      <td>0.0</td>\n",
              "      <td>0.00</td>\n",
              "      <td>0.000000</td>\n",
              "      <td>0.0</td>\n",
              "      <td>0.000000</td>\n",
              "      <td>0.0</td>\n",
              "      <td>9</td>\n",
              "      <td>2015</td>\n",
              "      <td>NaN</td>\n",
              "    </tr>\n",
              "    <tr>\n",
              "      <th>6734445</th>\n",
              "      <td>33</td>\n",
              "      <td>36</td>\n",
              "      <td>5704</td>\n",
              "      <td>0.0</td>\n",
              "      <td>0.00</td>\n",
              "      <td>0.000000</td>\n",
              "      <td>0.0</td>\n",
              "      <td>0.000000</td>\n",
              "      <td>0.0</td>\n",
              "      <td>9</td>\n",
              "      <td>2015</td>\n",
              "      <td>NaN</td>\n",
              "    </tr>\n",
              "    <tr>\n",
              "      <th>6734446</th>\n",
              "      <td>33</td>\n",
              "      <td>36</td>\n",
              "      <td>12733</td>\n",
              "      <td>0.0</td>\n",
              "      <td>0.00</td>\n",
              "      <td>0.000000</td>\n",
              "      <td>0.0</td>\n",
              "      <td>0.000000</td>\n",
              "      <td>0.0</td>\n",
              "      <td>9</td>\n",
              "      <td>2015</td>\n",
              "      <td>NaN</td>\n",
              "    </tr>\n",
              "    <tr>\n",
              "      <th>6734447</th>\n",
              "      <td>33</td>\n",
              "      <td>36</td>\n",
              "      <td>15925</td>\n",
              "      <td>0.0</td>\n",
              "      <td>0.00</td>\n",
              "      <td>0.000000</td>\n",
              "      <td>0.0</td>\n",
              "      <td>0.000000</td>\n",
              "      <td>0.0</td>\n",
              "      <td>9</td>\n",
              "      <td>2015</td>\n",
              "      <td>NaN</td>\n",
              "    </tr>\n",
              "  </tbody>\n",
              "</table>\n",
              "<p>6728118 rows × 12 columns</p>\n",
              "</div>"
            ],
            "text/plain": [
              "         date_block_num  shop_id  item_id  ...  month  year  item_cnt_month\n",
              "0                     0        2     5572  ...      0  2013             1.0\n",
              "1                     0        2     5643  ...      0  2013             0.0\n",
              "2                     0        2     5583  ...      0  2013             1.0\n",
              "3                     0        2     7893  ...      0  2013             2.0\n",
              "4                     0        2     7894  ...      0  2013             2.0\n",
              "...                 ...      ...      ...  ...    ...   ...             ...\n",
              "6734443              33       36     9103  ...      9  2015             NaN\n",
              "6734444              33       36     9107  ...      9  2015             NaN\n",
              "6734445              33       36     5704  ...      9  2015             NaN\n",
              "6734446              33       36    12733  ...      9  2015             NaN\n",
              "6734447              33       36    15925  ...      9  2015             NaN\n",
              "\n",
              "[6728118 rows x 12 columns]"
            ]
          },
          "metadata": {},
          "execution_count": 106
        }
      ]
    },
    {
      "cell_type": "code",
      "metadata": {
        "id": "8S-85rTK5Uw1"
      },
      "source": [
        "train_monthly['item_price_unit'] = train_monthly['item_price'] // train_monthly['item_cnt']\n",
        "train_monthly['item_price_unit'].fillna(0, inplace=True)"
      ],
      "execution_count": null,
      "outputs": []
    },
    {
      "cell_type": "code",
      "metadata": {
        "id": "kQmTARMN5dEY"
      },
      "source": [
        ""
      ],
      "execution_count": null,
      "outputs": []
    },
    {
      "cell_type": "markdown",
      "metadata": {
        "id": "AMMRXqkV4mx0"
      },
      "source": [
        ""
      ]
    },
    {
      "cell_type": "markdown",
      "metadata": {
        "id": "zSgQBy2eKsJo"
      },
      "source": [
        "###Mean Item Count Per Month"
      ]
    },
    {
      "cell_type": "code",
      "metadata": {
        "colab": {
          "base_uri": "https://localhost:8080/",
          "height": 372
        },
        "id": "949PacptKvrv",
        "outputId": "dc58238a-47c3-4a02-f24a-2521b2b4befa"
      },
      "source": [
        "plt.style.use('seaborn')\n",
        "train.copy().set_index('date').item_cnt_day.resample('M') \\\n",
        "                            .mean().plot();"
      ],
      "execution_count": null,
      "outputs": [
        {
          "output_type": "display_data",
          "data": {
            "image/png": "[encoded data removed]",
            "text/plain": [
              "<Figure size 576x396 with 1 Axes>"
            ]
          },
          "metadata": {}
        }
      ]
    },
    {
      "cell_type": "code",
      "metadata": {
        "id": "nkHNwJNuU-N3"
      },
      "source": [
        "train = train.join(items, on='item_id', rsuffix='_').join(shops, on='shop_id', rsuffix='_').join(categories, on='item_category_id', rsuffix='_').drop(['item_id_', 'shop_id_', 'item_category_id_'], axis=1)"
      ],
      "execution_count": null,
      "outputs": []
    },
    {
      "cell_type": "code",
      "metadata": {
        "id": "COAZ-WDcVHCv"
      },
      "source": [
        "#Note that this function can be modified by choosing to calculate duplicates over only a subset of features, keeping the last entry, etc.\n",
        "train.drop_duplicates(inplace=True,keep='first')"
      ],
      "execution_count": null,
      "outputs": []
    },
    {
      "cell_type": "code",
      "metadata": {
        "colab": {
          "base_uri": "https://localhost:8080/"
        },
        "id": "uYyJOg2tGkxy",
        "outputId": "b3f46b65-e450-4e46-9c04-5bf5f02db209"
      },
      "source": [
        "print (train)"
      ],
      "execution_count": null,
      "outputs": [
        {
          "output_type": "stream",
          "name": "stdout",
          "text": [
            "               date  ...                   item_category_name\n",
            "0        02.01.2013  ...                       Кино - Blu-Ray\n",
            "1        03.01.2013  ...                       Музыка - Винил\n",
            "2        05.01.2013  ...                       Музыка - Винил\n",
            "3        06.01.2013  ...                       Музыка - Винил\n",
            "4        15.01.2013  ...  Музыка - CD фирменного производства\n",
            "...             ...  ...                                  ...\n",
            "2935844  10.10.2015  ...  Музыка - CD локального производства\n",
            "2935845  09.10.2015  ...  Музыка - CD локального производства\n",
            "2935846  14.10.2015  ...  Музыка - CD локального производства\n",
            "2935847  22.10.2015  ...                         Музыка - MP3\n",
            "2935848  03.10.2015  ...  Музыка - CD локального производства\n",
            "\n",
            "[2935843 rows x 10 columns]\n"
          ]
        }
      ]
    },
    {
      "cell_type": "code",
      "metadata": {
        "colab": {
          "base_uri": "https://localhost:8080/",
          "height": 539
        },
        "id": "ZLZN5nX1GyeX",
        "outputId": "d7a705df-854b-4954-d135-52c0e262cebf"
      },
      "source": [
        "train.head()"
      ],
      "execution_count": null,
      "outputs": [
        {
          "output_type": "execute_result",
          "data": {
            "text/html": [
              "<div>\n",
              "<style scoped>\n",
              "    .dataframe tbody tr th:only-of-type {\n",
              "        vertical-align: middle;\n",
              "    }\n",
              "\n",
              "    .dataframe tbody tr th {\n",
              "        vertical-align: top;\n",
              "    }\n",
              "\n",
              "    .dataframe thead th {\n",
              "        text-align: right;\n",
              "    }\n",
              "</style>\n",
              "<table border=\"1\" class=\"dataframe\">\n",
              "  <thead>\n",
              "    <tr style=\"text-align: right;\">\n",
              "      <th></th>\n",
              "      <th>date</th>\n",
              "      <th>date_block_num</th>\n",
              "      <th>shop_id</th>\n",
              "      <th>item_id</th>\n",
              "      <th>item_price</th>\n",
              "      <th>item_cnt_day</th>\n",
              "      <th>item_name</th>\n",
              "      <th>item_category_id</th>\n",
              "      <th>shop_name</th>\n",
              "      <th>item_category_name</th>\n",
              "    </tr>\n",
              "  </thead>\n",
              "  <tbody>\n",
              "    <tr>\n",
              "      <th>0</th>\n",
              "      <td>2013-01-02</td>\n",
              "      <td>0</td>\n",
              "      <td>59</td>\n",
              "      <td>22154</td>\n",
              "      <td>999.00</td>\n",
              "      <td>1.0</td>\n",
              "      <td>ЯВЛЕНИЕ 2012 (BD)</td>\n",
              "      <td>37</td>\n",
              "      <td>Ярославль ТЦ \"Альтаир\"</td>\n",
              "      <td>Кино - Blu-Ray</td>\n",
              "    </tr>\n",
              "    <tr>\n",
              "      <th>1</th>\n",
              "      <td>2013-01-03</td>\n",
              "      <td>0</td>\n",
              "      <td>25</td>\n",
              "      <td>2552</td>\n",
              "      <td>899.00</td>\n",
              "      <td>1.0</td>\n",
              "      <td>DEEP PURPLE  The House Of Blue Light  LP</td>\n",
              "      <td>58</td>\n",
              "      <td>Москва ТРК \"Атриум\"</td>\n",
              "      <td>Музыка - Винил</td>\n",
              "    </tr>\n",
              "    <tr>\n",
              "      <th>2</th>\n",
              "      <td>2013-01-05</td>\n",
              "      <td>0</td>\n",
              "      <td>25</td>\n",
              "      <td>2552</td>\n",
              "      <td>899.00</td>\n",
              "      <td>-1.0</td>\n",
              "      <td>DEEP PURPLE  The House Of Blue Light  LP</td>\n",
              "      <td>58</td>\n",
              "      <td>Москва ТРК \"Атриум\"</td>\n",
              "      <td>Музыка - Винил</td>\n",
              "    </tr>\n",
              "    <tr>\n",
              "      <th>3</th>\n",
              "      <td>2013-01-06</td>\n",
              "      <td>0</td>\n",
              "      <td>25</td>\n",
              "      <td>2554</td>\n",
              "      <td>1709.05</td>\n",
              "      <td>1.0</td>\n",
              "      <td>DEEP PURPLE  Who Do You Think We Are  LP</td>\n",
              "      <td>58</td>\n",
              "      <td>Москва ТРК \"Атриум\"</td>\n",
              "      <td>Музыка - Винил</td>\n",
              "    </tr>\n",
              "    <tr>\n",
              "      <th>4</th>\n",
              "      <td>2013-01-15</td>\n",
              "      <td>0</td>\n",
              "      <td>25</td>\n",
              "      <td>2555</td>\n",
              "      <td>1099.00</td>\n",
              "      <td>1.0</td>\n",
              "      <td>DEEP PURPLE 30 Very Best Of 2CD (Фирм.)</td>\n",
              "      <td>56</td>\n",
              "      <td>Москва ТРК \"Атриум\"</td>\n",
              "      <td>Музыка - CD фирменного производства</td>\n",
              "    </tr>\n",
              "  </tbody>\n",
              "</table>\n",
              "</div>"
            ],
            "text/plain": [
              "        date  ...                   item_category_name\n",
              "0 2013-01-02  ...                       Кино - Blu-Ray\n",
              "1 2013-01-03  ...                       Музыка - Винил\n",
              "2 2013-01-05  ...                       Музыка - Винил\n",
              "3 2013-01-06  ...                       Музыка - Винил\n",
              "4 2013-01-15  ...  Музыка - CD фирменного производства\n",
              "\n",
              "[5 rows x 10 columns]"
            ]
          },
          "metadata": {},
          "execution_count": 100
        }
      ]
    },
    {
      "cell_type": "code",
      "metadata": {
        "colab": {
          "base_uri": "https://localhost:8080/",
          "height": 475
        },
        "id": "KHLF82O-1Rif",
        "outputId": "eb298011-f39b-42ec-d0af-c0d1d978147f"
      },
      "source": [
        "#next pivot table\n",
        "dataset = train.pivot_table(index = ['shop_id','item_id'], values = ['item_cnt_day'], columns = ['date_block_num'], fill_value = 0, aggfunc='sum')\n",
        "dataset.reset_index(inplace = True)\n",
        "dataset\n",
        "\n"
      ],
      "execution_count": null,
      "outputs": [
        {
          "output_type": "execute_result",
          "data": {
            "text/html": [
              "<div>\n",
              "<style scoped>\n",
              "    .dataframe tbody tr th:only-of-type {\n",
              "        vertical-align: middle;\n",
              "    }\n",
              "\n",
              "    .dataframe tbody tr th {\n",
              "        vertical-align: top;\n",
              "    }\n",
              "\n",
              "    .dataframe thead tr th {\n",
              "        text-align: left;\n",
              "    }\n",
              "</style>\n",
              "<table border=\"1\" class=\"dataframe\">\n",
              "  <thead>\n",
              "    <tr>\n",
              "      <th></th>\n",
              "      <th>shop_id</th>\n",
              "      <th>item_id</th>\n",
              "      <th colspan=\"34\" halign=\"left\">item_cnt_day</th>\n",
              "    </tr>\n",
              "    <tr>\n",
              "      <th>date_block_num</th>\n",
              "      <th></th>\n",
              "      <th></th>\n",
              "      <th>0</th>\n",
              "      <th>1</th>\n",
              "      <th>2</th>\n",
              "      <th>3</th>\n",
              "      <th>4</th>\n",
              "      <th>5</th>\n",
              "      <th>6</th>\n",
              "      <th>7</th>\n",
              "      <th>8</th>\n",
              "      <th>9</th>\n",
              "      <th>10</th>\n",
              "      <th>11</th>\n",
              "      <th>12</th>\n",
              "      <th>13</th>\n",
              "      <th>14</th>\n",
              "      <th>15</th>\n",
              "      <th>16</th>\n",
              "      <th>17</th>\n",
              "      <th>18</th>\n",
              "      <th>19</th>\n",
              "      <th>20</th>\n",
              "      <th>21</th>\n",
              "      <th>22</th>\n",
              "      <th>23</th>\n",
              "      <th>24</th>\n",
              "      <th>25</th>\n",
              "      <th>26</th>\n",
              "      <th>27</th>\n",
              "      <th>28</th>\n",
              "      <th>29</th>\n",
              "      <th>30</th>\n",
              "      <th>31</th>\n",
              "      <th>32</th>\n",
              "      <th>33</th>\n",
              "    </tr>\n",
              "  </thead>\n",
              "  <tbody>\n",
              "    <tr>\n",
              "      <th>0</th>\n",
              "      <td>0</td>\n",
              "      <td>30</td>\n",
              "      <td>0</td>\n",
              "      <td>31</td>\n",
              "      <td>0</td>\n",
              "      <td>0</td>\n",
              "      <td>0</td>\n",
              "      <td>0</td>\n",
              "      <td>0</td>\n",
              "      <td>0</td>\n",
              "      <td>0</td>\n",
              "      <td>0</td>\n",
              "      <td>0</td>\n",
              "      <td>0</td>\n",
              "      <td>0</td>\n",
              "      <td>0</td>\n",
              "      <td>0</td>\n",
              "      <td>0</td>\n",
              "      <td>0</td>\n",
              "      <td>0</td>\n",
              "      <td>0</td>\n",
              "      <td>0</td>\n",
              "      <td>0</td>\n",
              "      <td>0</td>\n",
              "      <td>0</td>\n",
              "      <td>0</td>\n",
              "      <td>0</td>\n",
              "      <td>0</td>\n",
              "      <td>0</td>\n",
              "      <td>0</td>\n",
              "      <td>0</td>\n",
              "      <td>0</td>\n",
              "      <td>0</td>\n",
              "      <td>0</td>\n",
              "      <td>0</td>\n",
              "      <td>0</td>\n",
              "    </tr>\n",
              "    <tr>\n",
              "      <th>1</th>\n",
              "      <td>0</td>\n",
              "      <td>31</td>\n",
              "      <td>0</td>\n",
              "      <td>11</td>\n",
              "      <td>0</td>\n",
              "      <td>0</td>\n",
              "      <td>0</td>\n",
              "      <td>0</td>\n",
              "      <td>0</td>\n",
              "      <td>0</td>\n",
              "      <td>0</td>\n",
              "      <td>0</td>\n",
              "      <td>0</td>\n",
              "      <td>0</td>\n",
              "      <td>0</td>\n",
              "      <td>0</td>\n",
              "      <td>0</td>\n",
              "      <td>0</td>\n",
              "      <td>0</td>\n",
              "      <td>0</td>\n",
              "      <td>0</td>\n",
              "      <td>0</td>\n",
              "      <td>0</td>\n",
              "      <td>0</td>\n",
              "      <td>0</td>\n",
              "      <td>0</td>\n",
              "      <td>0</td>\n",
              "      <td>0</td>\n",
              "      <td>0</td>\n",
              "      <td>0</td>\n",
              "      <td>0</td>\n",
              "      <td>0</td>\n",
              "      <td>0</td>\n",
              "      <td>0</td>\n",
              "      <td>0</td>\n",
              "      <td>0</td>\n",
              "    </tr>\n",
              "    <tr>\n",
              "      <th>2</th>\n",
              "      <td>0</td>\n",
              "      <td>32</td>\n",
              "      <td>6</td>\n",
              "      <td>10</td>\n",
              "      <td>0</td>\n",
              "      <td>0</td>\n",
              "      <td>0</td>\n",
              "      <td>0</td>\n",
              "      <td>0</td>\n",
              "      <td>0</td>\n",
              "      <td>0</td>\n",
              "      <td>0</td>\n",
              "      <td>0</td>\n",
              "      <td>0</td>\n",
              "      <td>0</td>\n",
              "      <td>0</td>\n",
              "      <td>0</td>\n",
              "      <td>0</td>\n",
              "      <td>0</td>\n",
              "      <td>0</td>\n",
              "      <td>0</td>\n",
              "      <td>0</td>\n",
              "      <td>0</td>\n",
              "      <td>0</td>\n",
              "      <td>0</td>\n",
              "      <td>0</td>\n",
              "      <td>0</td>\n",
              "      <td>0</td>\n",
              "      <td>0</td>\n",
              "      <td>0</td>\n",
              "      <td>0</td>\n",
              "      <td>0</td>\n",
              "      <td>0</td>\n",
              "      <td>0</td>\n",
              "      <td>0</td>\n",
              "      <td>0</td>\n",
              "    </tr>\n",
              "    <tr>\n",
              "      <th>3</th>\n",
              "      <td>0</td>\n",
              "      <td>33</td>\n",
              "      <td>3</td>\n",
              "      <td>3</td>\n",
              "      <td>0</td>\n",
              "      <td>0</td>\n",
              "      <td>0</td>\n",
              "      <td>0</td>\n",
              "      <td>0</td>\n",
              "      <td>0</td>\n",
              "      <td>0</td>\n",
              "      <td>0</td>\n",
              "      <td>0</td>\n",
              "      <td>0</td>\n",
              "      <td>0</td>\n",
              "      <td>0</td>\n",
              "      <td>0</td>\n",
              "      <td>0</td>\n",
              "      <td>0</td>\n",
              "      <td>0</td>\n",
              "      <td>0</td>\n",
              "      <td>0</td>\n",
              "      <td>0</td>\n",
              "      <td>0</td>\n",
              "      <td>0</td>\n",
              "      <td>0</td>\n",
              "      <td>0</td>\n",
              "      <td>0</td>\n",
              "      <td>0</td>\n",
              "      <td>0</td>\n",
              "      <td>0</td>\n",
              "      <td>0</td>\n",
              "      <td>0</td>\n",
              "      <td>0</td>\n",
              "      <td>0</td>\n",
              "      <td>0</td>\n",
              "    </tr>\n",
              "    <tr>\n",
              "      <th>4</th>\n",
              "      <td>0</td>\n",
              "      <td>35</td>\n",
              "      <td>1</td>\n",
              "      <td>14</td>\n",
              "      <td>0</td>\n",
              "      <td>0</td>\n",
              "      <td>0</td>\n",
              "      <td>0</td>\n",
              "      <td>0</td>\n",
              "      <td>0</td>\n",
              "      <td>0</td>\n",
              "      <td>0</td>\n",
              "      <td>0</td>\n",
              "      <td>0</td>\n",
              "      <td>0</td>\n",
              "      <td>0</td>\n",
              "      <td>0</td>\n",
              "      <td>0</td>\n",
              "      <td>0</td>\n",
              "      <td>0</td>\n",
              "      <td>0</td>\n",
              "      <td>0</td>\n",
              "      <td>0</td>\n",
              "      <td>0</td>\n",
              "      <td>0</td>\n",
              "      <td>0</td>\n",
              "      <td>0</td>\n",
              "      <td>0</td>\n",
              "      <td>0</td>\n",
              "      <td>0</td>\n",
              "      <td>0</td>\n",
              "      <td>0</td>\n",
              "      <td>0</td>\n",
              "      <td>0</td>\n",
              "      <td>0</td>\n",
              "      <td>0</td>\n",
              "    </tr>\n",
              "    <tr>\n",
              "      <th>...</th>\n",
              "      <td>...</td>\n",
              "      <td>...</td>\n",
              "      <td>...</td>\n",
              "      <td>...</td>\n",
              "      <td>...</td>\n",
              "      <td>...</td>\n",
              "      <td>...</td>\n",
              "      <td>...</td>\n",
              "      <td>...</td>\n",
              "      <td>...</td>\n",
              "      <td>...</td>\n",
              "      <td>...</td>\n",
              "      <td>...</td>\n",
              "      <td>...</td>\n",
              "      <td>...</td>\n",
              "      <td>...</td>\n",
              "      <td>...</td>\n",
              "      <td>...</td>\n",
              "      <td>...</td>\n",
              "      <td>...</td>\n",
              "      <td>...</td>\n",
              "      <td>...</td>\n",
              "      <td>...</td>\n",
              "      <td>...</td>\n",
              "      <td>...</td>\n",
              "      <td>...</td>\n",
              "      <td>...</td>\n",
              "      <td>...</td>\n",
              "      <td>...</td>\n",
              "      <td>...</td>\n",
              "      <td>...</td>\n",
              "      <td>...</td>\n",
              "      <td>...</td>\n",
              "      <td>...</td>\n",
              "      <td>...</td>\n",
              "      <td>...</td>\n",
              "    </tr>\n",
              "    <tr>\n",
              "      <th>424119</th>\n",
              "      <td>59</td>\n",
              "      <td>22154</td>\n",
              "      <td>1</td>\n",
              "      <td>0</td>\n",
              "      <td>0</td>\n",
              "      <td>0</td>\n",
              "      <td>0</td>\n",
              "      <td>0</td>\n",
              "      <td>0</td>\n",
              "      <td>0</td>\n",
              "      <td>0</td>\n",
              "      <td>0</td>\n",
              "      <td>0</td>\n",
              "      <td>0</td>\n",
              "      <td>0</td>\n",
              "      <td>0</td>\n",
              "      <td>0</td>\n",
              "      <td>0</td>\n",
              "      <td>0</td>\n",
              "      <td>0</td>\n",
              "      <td>0</td>\n",
              "      <td>0</td>\n",
              "      <td>0</td>\n",
              "      <td>0</td>\n",
              "      <td>0</td>\n",
              "      <td>0</td>\n",
              "      <td>0</td>\n",
              "      <td>0</td>\n",
              "      <td>0</td>\n",
              "      <td>0</td>\n",
              "      <td>0</td>\n",
              "      <td>0</td>\n",
              "      <td>0</td>\n",
              "      <td>0</td>\n",
              "      <td>0</td>\n",
              "      <td>0</td>\n",
              "    </tr>\n",
              "    <tr>\n",
              "      <th>424120</th>\n",
              "      <td>59</td>\n",
              "      <td>22155</td>\n",
              "      <td>0</td>\n",
              "      <td>0</td>\n",
              "      <td>0</td>\n",
              "      <td>0</td>\n",
              "      <td>0</td>\n",
              "      <td>0</td>\n",
              "      <td>1</td>\n",
              "      <td>0</td>\n",
              "      <td>0</td>\n",
              "      <td>0</td>\n",
              "      <td>0</td>\n",
              "      <td>0</td>\n",
              "      <td>0</td>\n",
              "      <td>0</td>\n",
              "      <td>0</td>\n",
              "      <td>0</td>\n",
              "      <td>0</td>\n",
              "      <td>0</td>\n",
              "      <td>0</td>\n",
              "      <td>0</td>\n",
              "      <td>0</td>\n",
              "      <td>0</td>\n",
              "      <td>0</td>\n",
              "      <td>0</td>\n",
              "      <td>0</td>\n",
              "      <td>0</td>\n",
              "      <td>0</td>\n",
              "      <td>0</td>\n",
              "      <td>0</td>\n",
              "      <td>0</td>\n",
              "      <td>0</td>\n",
              "      <td>0</td>\n",
              "      <td>0</td>\n",
              "      <td>0</td>\n",
              "    </tr>\n",
              "    <tr>\n",
              "      <th>424121</th>\n",
              "      <td>59</td>\n",
              "      <td>22162</td>\n",
              "      <td>0</td>\n",
              "      <td>0</td>\n",
              "      <td>0</td>\n",
              "      <td>0</td>\n",
              "      <td>0</td>\n",
              "      <td>0</td>\n",
              "      <td>0</td>\n",
              "      <td>0</td>\n",
              "      <td>0</td>\n",
              "      <td>0</td>\n",
              "      <td>0</td>\n",
              "      <td>0</td>\n",
              "      <td>0</td>\n",
              "      <td>0</td>\n",
              "      <td>0</td>\n",
              "      <td>0</td>\n",
              "      <td>0</td>\n",
              "      <td>0</td>\n",
              "      <td>0</td>\n",
              "      <td>0</td>\n",
              "      <td>0</td>\n",
              "      <td>0</td>\n",
              "      <td>0</td>\n",
              "      <td>0</td>\n",
              "      <td>0</td>\n",
              "      <td>9</td>\n",
              "      <td>4</td>\n",
              "      <td>1</td>\n",
              "      <td>1</td>\n",
              "      <td>0</td>\n",
              "      <td>0</td>\n",
              "      <td>1</td>\n",
              "      <td>0</td>\n",
              "      <td>0</td>\n",
              "    </tr>\n",
              "    <tr>\n",
              "      <th>424122</th>\n",
              "      <td>59</td>\n",
              "      <td>22164</td>\n",
              "      <td>0</td>\n",
              "      <td>0</td>\n",
              "      <td>0</td>\n",
              "      <td>0</td>\n",
              "      <td>0</td>\n",
              "      <td>0</td>\n",
              "      <td>0</td>\n",
              "      <td>0</td>\n",
              "      <td>0</td>\n",
              "      <td>0</td>\n",
              "      <td>0</td>\n",
              "      <td>0</td>\n",
              "      <td>0</td>\n",
              "      <td>0</td>\n",
              "      <td>0</td>\n",
              "      <td>0</td>\n",
              "      <td>0</td>\n",
              "      <td>0</td>\n",
              "      <td>0</td>\n",
              "      <td>0</td>\n",
              "      <td>0</td>\n",
              "      <td>0</td>\n",
              "      <td>0</td>\n",
              "      <td>0</td>\n",
              "      <td>0</td>\n",
              "      <td>2</td>\n",
              "      <td>1</td>\n",
              "      <td>2</td>\n",
              "      <td>0</td>\n",
              "      <td>0</td>\n",
              "      <td>1</td>\n",
              "      <td>0</td>\n",
              "      <td>0</td>\n",
              "      <td>0</td>\n",
              "    </tr>\n",
              "    <tr>\n",
              "      <th>424123</th>\n",
              "      <td>59</td>\n",
              "      <td>22167</td>\n",
              "      <td>0</td>\n",
              "      <td>0</td>\n",
              "      <td>0</td>\n",
              "      <td>0</td>\n",
              "      <td>0</td>\n",
              "      <td>0</td>\n",
              "      <td>0</td>\n",
              "      <td>0</td>\n",
              "      <td>0</td>\n",
              "      <td>1</td>\n",
              "      <td>0</td>\n",
              "      <td>2</td>\n",
              "      <td>0</td>\n",
              "      <td>0</td>\n",
              "      <td>0</td>\n",
              "      <td>0</td>\n",
              "      <td>0</td>\n",
              "      <td>1</td>\n",
              "      <td>0</td>\n",
              "      <td>0</td>\n",
              "      <td>0</td>\n",
              "      <td>0</td>\n",
              "      <td>0</td>\n",
              "      <td>0</td>\n",
              "      <td>0</td>\n",
              "      <td>0</td>\n",
              "      <td>0</td>\n",
              "      <td>0</td>\n",
              "      <td>0</td>\n",
              "      <td>0</td>\n",
              "      <td>0</td>\n",
              "      <td>0</td>\n",
              "      <td>0</td>\n",
              "      <td>0</td>\n",
              "    </tr>\n",
              "  </tbody>\n",
              "</table>\n",
              "<p>424124 rows × 36 columns</p>\n",
              "</div>"
            ],
            "text/plain": [
              "               shop_id item_id item_cnt_day               ...                     \n",
              "date_block_num                            0   1  2  3  4  ... 27 28 29 30 31 32 33\n",
              "0                    0      30            0  31  0  0  0  ...  0  0  0  0  0  0  0\n",
              "1                    0      31            0  11  0  0  0  ...  0  0  0  0  0  0  0\n",
              "2                    0      32            6  10  0  0  0  ...  0  0  0  0  0  0  0\n",
              "3                    0      33            3   3  0  0  0  ...  0  0  0  0  0  0  0\n",
              "4                    0      35            1  14  0  0  0  ...  0  0  0  0  0  0  0\n",
              "...                ...     ...          ...  .. .. .. ..  ... .. .. .. .. .. .. ..\n",
              "424119              59   22154            1   0  0  0  0  ...  0  0  0  0  0  0  0\n",
              "424120              59   22155            0   0  0  0  0  ...  0  0  0  0  0  0  0\n",
              "424121              59   22162            0   0  0  0  0  ...  1  1  0  0  1  0  0\n",
              "424122              59   22164            0   0  0  0  0  ...  2  0  0  1  0  0  0\n",
              "424123              59   22167            0   0  0  0  0  ...  0  0  0  0  0  0  0\n",
              "\n",
              "[424124 rows x 36 columns]"
            ]
          },
          "metadata": {},
          "execution_count": 149
        }
      ]
    },
    {
      "cell_type": "code",
      "metadata": {
        "id": "PyX13ufb4sYL"
      },
      "source": [
        ""
      ],
      "execution_count": null,
      "outputs": []
    },
    {
      "cell_type": "markdown",
      "metadata": {
        "id": "_7dGpFzHO8sE"
      },
      "source": [
        "###How to drop outdated items? "
      ]
    },
    {
      "cell_type": "markdown",
      "metadata": {
        "id": "HYDgxbPHsuHK"
      },
      "source": [
        "###4. Shops"
      ]
    },
    {
      "cell_type": "code",
      "metadata": {
        "colab": {
          "base_uri": "https://localhost:8080/"
        },
        "id": "OPG9JgRDgBkh",
        "outputId": "ec154d22-9e10-4cb3-90cc-ff9316e96cc4"
      },
      "source": [
        "print(\"First 5 Entries\")\n",
        "print(shops.head(5))\n",
        "print(\"Info\")\n",
        "print(shops.info())\n",
        "print(\"Data Types\")\n",
        "print(shops.dtypes)\n",
        "print(\"Missing value\")\n",
        "print(shops.isnull().sum())\n",
        "print(\"Null value\")\n",
        "print(shops.isna().sum())\n",
        "print(\"Shape of Data\")\n",
        "print(shops.shape)"
      ],
      "execution_count": null,
      "outputs": [
        {
          "output_type": "stream",
          "name": "stdout",
          "text": [
            "First 5 Entries\n",
            "                        shop_name  shop_id\n",
            "0   !Якутск Орджоникидзе, 56 фран        0\n",
            "1   !Якутск ТЦ \"Центральный\" фран        1\n",
            "2                Адыгея ТЦ \"Мега\"        2\n",
            "3  Балашиха ТРК \"Октябрь-Киномир\"        3\n",
            "4        Волжский ТЦ \"Волга Молл\"        4\n",
            "Info\n",
            "<class 'pandas.core.frame.DataFrame'>\n",
            "RangeIndex: 60 entries, 0 to 59\n",
            "Data columns (total 2 columns):\n",
            " #   Column     Non-Null Count  Dtype \n",
            "---  ------     --------------  ----- \n",
            " 0   shop_name  60 non-null     object\n",
            " 1   shop_id    60 non-null     int64 \n",
            "dtypes: int64(1), object(1)\n",
            "memory usage: 1.1+ KB\n",
            "None\n",
            "Data Types\n",
            "shop_name    object\n",
            "shop_id       int64\n",
            "dtype: object\n",
            "Missing value\n",
            "shop_name    0\n",
            "shop_id      0\n",
            "dtype: int64\n",
            "Null value\n",
            "shop_name    0\n",
            "shop_id      0\n",
            "dtype: int64\n",
            "Shape of Data\n",
            "(60, 2)\n"
          ]
        }
      ]
    },
    {
      "cell_type": "code",
      "metadata": {
        "colab": {
          "base_uri": "https://localhost:8080/",
          "height": 300
        },
        "id": "ryrysV0LgkAQ",
        "outputId": "43695bf0-d633-4365-b8e4-936e91eb968a"
      },
      "source": [
        "shops.describe()"
      ],
      "execution_count": null,
      "outputs": [
        {
          "output_type": "execute_result",
          "data": {
            "text/html": [
              "<div>\n",
              "<style scoped>\n",
              "    .dataframe tbody tr th:only-of-type {\n",
              "        vertical-align: middle;\n",
              "    }\n",
              "\n",
              "    .dataframe tbody tr th {\n",
              "        vertical-align: top;\n",
              "    }\n",
              "\n",
              "    .dataframe thead th {\n",
              "        text-align: right;\n",
              "    }\n",
              "</style>\n",
              "<table border=\"1\" class=\"dataframe\">\n",
              "  <thead>\n",
              "    <tr style=\"text-align: right;\">\n",
              "      <th></th>\n",
              "      <th>shop_id</th>\n",
              "    </tr>\n",
              "  </thead>\n",
              "  <tbody>\n",
              "    <tr>\n",
              "      <th>count</th>\n",
              "      <td>60.000000</td>\n",
              "    </tr>\n",
              "    <tr>\n",
              "      <th>mean</th>\n",
              "      <td>29.500000</td>\n",
              "    </tr>\n",
              "    <tr>\n",
              "      <th>std</th>\n",
              "      <td>17.464249</td>\n",
              "    </tr>\n",
              "    <tr>\n",
              "      <th>min</th>\n",
              "      <td>0.000000</td>\n",
              "    </tr>\n",
              "    <tr>\n",
              "      <th>25%</th>\n",
              "      <td>14.750000</td>\n",
              "    </tr>\n",
              "    <tr>\n",
              "      <th>50%</th>\n",
              "      <td>29.500000</td>\n",
              "    </tr>\n",
              "    <tr>\n",
              "      <th>75%</th>\n",
              "      <td>44.250000</td>\n",
              "    </tr>\n",
              "    <tr>\n",
              "      <th>max</th>\n",
              "      <td>59.000000</td>\n",
              "    </tr>\n",
              "  </tbody>\n",
              "</table>\n",
              "</div>"
            ],
            "text/plain": [
              "         shop_id\n",
              "count  60.000000\n",
              "mean   29.500000\n",
              "std    17.464249\n",
              "min     0.000000\n",
              "25%    14.750000\n",
              "50%    29.500000\n",
              "75%    44.250000\n",
              "max    59.000000"
            ]
          },
          "metadata": {},
          "execution_count": 103
        }
      ]
    },
    {
      "cell_type": "markdown",
      "metadata": {
        "id": "aPphHgcN5Md_"
      },
      "source": [
        "###5. Test"
      ]
    },
    {
      "cell_type": "code",
      "metadata": {
        "colab": {
          "base_uri": "https://localhost:8080/"
        },
        "id": "QKASO9XD7IiQ",
        "outputId": "ab4fc96a-8f30-471b-c0e7-f8260091e8cc"
      },
      "source": [
        "test.info"
      ],
      "execution_count": null,
      "outputs": [
        {
          "output_type": "execute_result",
          "data": {
            "text/plain": [
              "<bound method DataFrame.info of             ID  shop_id  item_id\n",
              "0            0        5     5037\n",
              "1            1        5     5320\n",
              "2            2        5     5233\n",
              "3            3        5     5232\n",
              "4            4        5     5268\n",
              "...        ...      ...      ...\n",
              "214195  214195       45    18454\n",
              "214196  214196       45    16188\n",
              "214197  214197       45    15757\n",
              "214198  214198       45    19648\n",
              "214199  214199       45      969\n",
              "\n",
              "[214200 rows x 3 columns]>"
            ]
          },
          "metadata": {},
          "execution_count": 111
        }
      ]
    },
    {
      "cell_type": "code",
      "metadata": {
        "id": "Gbx9nFMc5w6F"
      },
      "source": [
        "test = test.drop('ID', axis = 1,inplace = False)\n"
      ],
      "execution_count": null,
      "outputs": []
    },
    {
      "cell_type": "code",
      "metadata": {
        "id": "pOnxxMMW7eJr",
        "colab": {
          "base_uri": "https://localhost:8080/"
        },
        "outputId": "15cf483d-2d2c-4c80-96fb-bbc4a08def39"
      },
      "source": [
        "print (test)"
      ],
      "execution_count": null,
      "outputs": [
        {
          "output_type": "stream",
          "name": "stdout",
          "text": [
            "        shop_id  item_id\n",
            "0             5     5037\n",
            "1             5     5320\n",
            "2             5     5233\n",
            "3             5     5232\n",
            "4             5     5268\n",
            "...         ...      ...\n",
            "214195       45    18454\n",
            "214196       45    16188\n",
            "214197       45    15757\n",
            "214198       45    19648\n",
            "214199       45      969\n",
            "\n",
            "[214200 rows x 2 columns]\n"
          ]
        }
      ]
    },
    {
      "cell_type": "code",
      "metadata": {
        "id": "R0M1zlPzzlSM"
      },
      "source": [
        "pd.merge(test,dataset,how: 'left')"
      ],
      "execution_count": null,
      "outputs": []
    },
    {
      "cell_type": "code",
      "metadata": {
        "id": "r5jh-DHWIZqK"
      },
      "source": [
        "test = test.join(train,rsuffix = '_' )"
      ],
      "execution_count": null,
      "outputs": []
    },
    {
      "cell_type": "code",
      "metadata": {
        "colab": {
          "base_uri": "https://localhost:8080/"
        },
        "id": "4Ckb6nC-K1u6",
        "outputId": "a7e8e578-6499-4c6f-c54e-06436ee5f53c"
      },
      "source": [
        "print(test)"
      ],
      "execution_count": null,
      "outputs": [
        {
          "output_type": "stream",
          "name": "stdout",
          "text": [
            "        shop_id  ...                   item_category_name\n",
            "0             5  ...                       Кино - Blu-Ray\n",
            "1             5  ...                       Музыка - Винил\n",
            "2             5  ...                       Музыка - Винил\n",
            "3             5  ...                       Музыка - Винил\n",
            "4             5  ...  Музыка - CD фирменного производства\n",
            "...         ...  ...                                  ...\n",
            "214195       45  ...                           Кино - DVD\n",
            "214196       45  ...                           Кино - DVD\n",
            "214197       45  ...                           Кино - DVD\n",
            "214198       45  ...                    Кино - Blu-Ray 3D\n",
            "214199       45  ...        Игры PC - Стандартные издания\n",
            "\n",
            "[214200 rows x 12 columns]\n"
          ]
        }
      ]
    },
    {
      "cell_type": "code",
      "metadata": {
        "colab": {
          "base_uri": "https://localhost:8080/",
          "height": 539
        },
        "id": "Mz0tkUb2JIpD",
        "outputId": "8e331b26-999b-4ef8-9195-ca8d4af16fda"
      },
      "source": [
        "test.head()"
      ],
      "execution_count": null,
      "outputs": [
        {
          "output_type": "execute_result",
          "data": {
            "text/html": [
              "<div>\n",
              "<style scoped>\n",
              "    .dataframe tbody tr th:only-of-type {\n",
              "        vertical-align: middle;\n",
              "    }\n",
              "\n",
              "    .dataframe tbody tr th {\n",
              "        vertical-align: top;\n",
              "    }\n",
              "\n",
              "    .dataframe thead th {\n",
              "        text-align: right;\n",
              "    }\n",
              "</style>\n",
              "<table border=\"1\" class=\"dataframe\">\n",
              "  <thead>\n",
              "    <tr style=\"text-align: right;\">\n",
              "      <th></th>\n",
              "      <th>shop_id</th>\n",
              "      <th>item_id</th>\n",
              "      <th>date</th>\n",
              "      <th>date_block_num</th>\n",
              "      <th>shop_id_</th>\n",
              "      <th>item_id_</th>\n",
              "      <th>item_price</th>\n",
              "      <th>item_cnt_day</th>\n",
              "      <th>item_name</th>\n",
              "      <th>item_category_id</th>\n",
              "      <th>shop_name</th>\n",
              "      <th>item_category_name</th>\n",
              "    </tr>\n",
              "  </thead>\n",
              "  <tbody>\n",
              "    <tr>\n",
              "      <th>0</th>\n",
              "      <td>5</td>\n",
              "      <td>5037</td>\n",
              "      <td>02.01.2013</td>\n",
              "      <td>0.0</td>\n",
              "      <td>59.0</td>\n",
              "      <td>22154.0</td>\n",
              "      <td>999.00</td>\n",
              "      <td>1.0</td>\n",
              "      <td>ЯВЛЕНИЕ 2012 (BD)</td>\n",
              "      <td>37.0</td>\n",
              "      <td>Ярославль ТЦ \"Альтаир\"</td>\n",
              "      <td>Кино - Blu-Ray</td>\n",
              "    </tr>\n",
              "    <tr>\n",
              "      <th>1</th>\n",
              "      <td>5</td>\n",
              "      <td>5320</td>\n",
              "      <td>03.01.2013</td>\n",
              "      <td>0.0</td>\n",
              "      <td>25.0</td>\n",
              "      <td>2552.0</td>\n",
              "      <td>899.00</td>\n",
              "      <td>1.0</td>\n",
              "      <td>DEEP PURPLE  The House Of Blue Light  LP</td>\n",
              "      <td>58.0</td>\n",
              "      <td>Москва ТРК \"Атриум\"</td>\n",
              "      <td>Музыка - Винил</td>\n",
              "    </tr>\n",
              "    <tr>\n",
              "      <th>2</th>\n",
              "      <td>5</td>\n",
              "      <td>5233</td>\n",
              "      <td>05.01.2013</td>\n",
              "      <td>0.0</td>\n",
              "      <td>25.0</td>\n",
              "      <td>2552.0</td>\n",
              "      <td>899.00</td>\n",
              "      <td>-1.0</td>\n",
              "      <td>DEEP PURPLE  The House Of Blue Light  LP</td>\n",
              "      <td>58.0</td>\n",
              "      <td>Москва ТРК \"Атриум\"</td>\n",
              "      <td>Музыка - Винил</td>\n",
              "    </tr>\n",
              "    <tr>\n",
              "      <th>3</th>\n",
              "      <td>5</td>\n",
              "      <td>5232</td>\n",
              "      <td>06.01.2013</td>\n",
              "      <td>0.0</td>\n",
              "      <td>25.0</td>\n",
              "      <td>2554.0</td>\n",
              "      <td>1709.05</td>\n",
              "      <td>1.0</td>\n",
              "      <td>DEEP PURPLE  Who Do You Think We Are  LP</td>\n",
              "      <td>58.0</td>\n",
              "      <td>Москва ТРК \"Атриум\"</td>\n",
              "      <td>Музыка - Винил</td>\n",
              "    </tr>\n",
              "    <tr>\n",
              "      <th>4</th>\n",
              "      <td>5</td>\n",
              "      <td>5268</td>\n",
              "      <td>15.01.2013</td>\n",
              "      <td>0.0</td>\n",
              "      <td>25.0</td>\n",
              "      <td>2555.0</td>\n",
              "      <td>1099.00</td>\n",
              "      <td>1.0</td>\n",
              "      <td>DEEP PURPLE 30 Very Best Of 2CD (Фирм.)</td>\n",
              "      <td>56.0</td>\n",
              "      <td>Москва ТРК \"Атриум\"</td>\n",
              "      <td>Музыка - CD фирменного производства</td>\n",
              "    </tr>\n",
              "  </tbody>\n",
              "</table>\n",
              "</div>"
            ],
            "text/plain": [
              "   shop_id  ...                   item_category_name\n",
              "0        5  ...                       Кино - Blu-Ray\n",
              "1        5  ...                       Музыка - Винил\n",
              "2        5  ...                       Музыка - Винил\n",
              "3        5  ...                       Музыка - Винил\n",
              "4        5  ...  Музыка - CD фирменного производства\n",
              "\n",
              "[5 rows x 12 columns]"
            ]
          },
          "metadata": {},
          "execution_count": 153
        }
      ]
    },
    {
      "cell_type": "code",
      "metadata": {
        "colab": {
          "base_uri": "https://localhost:8080/"
        },
        "id": "axU0yUqOL3Hq",
        "outputId": "f51f4f62-1e67-4ad8-8c2c-0dcf830e1370"
      },
      "source": [
        "print(\"Missing NaN values\")\n",
        "print(test.isnull().sum())"
      ],
      "execution_count": null,
      "outputs": [
        {
          "output_type": "stream",
          "name": "stdout",
          "text": [
            "Missing NaN values\n",
            "shop_id               0\n",
            "item_id               0\n",
            "date                  1\n",
            "date_block_num        1\n",
            "shop_id_              1\n",
            "item_id_              1\n",
            "item_price            1\n",
            "item_cnt_day          1\n",
            "item_name             1\n",
            "item_category_id      1\n",
            "shop_name             1\n",
            "item_category_name    1\n",
            "dtype: int64\n"
          ]
        }
      ]
    },
    {
      "cell_type": "code",
      "metadata": {
        "colab": {
          "base_uri": "https://localhost:8080/"
        },
        "id": "wmZDHwp2Iy-F",
        "outputId": "7fcdfaf5-7e57-4fe7-e38c-1ecc583ff5d6"
      },
      "source": [
        "print(test)"
      ],
      "execution_count": null,
      "outputs": [
        {
          "output_type": "stream",
          "name": "stdout",
          "text": [
            "        shop_id  ...                   item_category_name\n",
            "0             5  ...                       Кино - Blu-Ray\n",
            "1             5  ...                       Музыка - Винил\n",
            "2             5  ...                       Музыка - Винил\n",
            "3             5  ...                       Музыка - Винил\n",
            "4             5  ...  Музыка - CD фирменного производства\n",
            "...         ...  ...                                  ...\n",
            "214195       45  ...                           Кино - DVD\n",
            "214196       45  ...                           Кино - DVD\n",
            "214197       45  ...                           Кино - DVD\n",
            "214198       45  ...                    Кино - Blu-Ray 3D\n",
            "214199       45  ...        Игры PC - Стандартные издания\n",
            "\n",
            "[214200 rows x 12 columns]\n"
          ]
        }
      ]
    },
    {
      "cell_type": "code",
      "metadata": {
        "id": "B0TJIKaqMCCE"
      },
      "source": [
        "est = test.drop(['item_id_','shop_id_','item_name','shop_name','item_category_name'], axis = 1,inplace = True)"
      ],
      "execution_count": null,
      "outputs": []
    },
    {
      "cell_type": "code",
      "metadata": {
        "colab": {
          "base_uri": "https://localhost:8080/"
        },
        "id": "eN_1kYLMMqUe",
        "outputId": "d7f567af-e5fb-4d24-ee43-0506997ac8bb"
      },
      "source": [
        "print(test)"
      ],
      "execution_count": null,
      "outputs": [
        {
          "output_type": "stream",
          "name": "stdout",
          "text": [
            "        shop_id  item_id  ... item_cnt_day  item_category_id\n",
            "0             5     5037  ...          1.0              37.0\n",
            "1             5     5320  ...          1.0              58.0\n",
            "2             5     5233  ...         -1.0              58.0\n",
            "3             5     5232  ...          1.0              58.0\n",
            "4             5     5268  ...          1.0              56.0\n",
            "...         ...      ...  ...          ...               ...\n",
            "214195       45    18454  ...          1.0              40.0\n",
            "214196       45    16188  ...          1.0              40.0\n",
            "214197       45    15757  ...          1.0              40.0\n",
            "214198       45    19648  ...          1.0              38.0\n",
            "214199       45      969  ...          1.0              30.0\n",
            "\n",
            "[214200 rows x 7 columns]\n"
          ]
        }
      ]
    },
    {
      "cell_type": "code",
      "metadata": {
        "colab": {
          "base_uri": "https://localhost:8080/",
          "height": 206
        },
        "id": "eH-kSlINsNdl",
        "outputId": "f87ff8da-9387-45f3-a5aa-90cce4a2ed34"
      },
      "source": [
        "test.head()"
      ],
      "execution_count": null,
      "outputs": [
        {
          "output_type": "execute_result",
          "data": {
            "text/html": [
              "<div>\n",
              "<style scoped>\n",
              "    .dataframe tbody tr th:only-of-type {\n",
              "        vertical-align: middle;\n",
              "    }\n",
              "\n",
              "    .dataframe tbody tr th {\n",
              "        vertical-align: top;\n",
              "    }\n",
              "\n",
              "    .dataframe thead th {\n",
              "        text-align: right;\n",
              "    }\n",
              "</style>\n",
              "<table border=\"1\" class=\"dataframe\">\n",
              "  <thead>\n",
              "    <tr style=\"text-align: right;\">\n",
              "      <th></th>\n",
              "      <th>shop_id</th>\n",
              "      <th>item_id</th>\n",
              "      <th>date</th>\n",
              "      <th>date_block_num</th>\n",
              "      <th>item_price</th>\n",
              "      <th>item_cnt_day</th>\n",
              "      <th>item_category_id</th>\n",
              "    </tr>\n",
              "  </thead>\n",
              "  <tbody>\n",
              "    <tr>\n",
              "      <th>0</th>\n",
              "      <td>5</td>\n",
              "      <td>5037</td>\n",
              "      <td>02.01.2013</td>\n",
              "      <td>0.0</td>\n",
              "      <td>999.00</td>\n",
              "      <td>1.0</td>\n",
              "      <td>37.0</td>\n",
              "    </tr>\n",
              "    <tr>\n",
              "      <th>1</th>\n",
              "      <td>5</td>\n",
              "      <td>5320</td>\n",
              "      <td>03.01.2013</td>\n",
              "      <td>0.0</td>\n",
              "      <td>899.00</td>\n",
              "      <td>1.0</td>\n",
              "      <td>58.0</td>\n",
              "    </tr>\n",
              "    <tr>\n",
              "      <th>2</th>\n",
              "      <td>5</td>\n",
              "      <td>5233</td>\n",
              "      <td>05.01.2013</td>\n",
              "      <td>0.0</td>\n",
              "      <td>899.00</td>\n",
              "      <td>-1.0</td>\n",
              "      <td>58.0</td>\n",
              "    </tr>\n",
              "    <tr>\n",
              "      <th>3</th>\n",
              "      <td>5</td>\n",
              "      <td>5232</td>\n",
              "      <td>06.01.2013</td>\n",
              "      <td>0.0</td>\n",
              "      <td>1709.05</td>\n",
              "      <td>1.0</td>\n",
              "      <td>58.0</td>\n",
              "    </tr>\n",
              "    <tr>\n",
              "      <th>4</th>\n",
              "      <td>5</td>\n",
              "      <td>5268</td>\n",
              "      <td>15.01.2013</td>\n",
              "      <td>0.0</td>\n",
              "      <td>1099.00</td>\n",
              "      <td>1.0</td>\n",
              "      <td>56.0</td>\n",
              "    </tr>\n",
              "  </tbody>\n",
              "</table>\n",
              "</div>"
            ],
            "text/plain": [
              "   shop_id  item_id        date  ...  item_price  item_cnt_day  item_category_id\n",
              "0        5     5037  02.01.2013  ...      999.00           1.0              37.0\n",
              "1        5     5320  03.01.2013  ...      899.00           1.0              58.0\n",
              "2        5     5233  05.01.2013  ...      899.00          -1.0              58.0\n",
              "3        5     5232  06.01.2013  ...     1709.05           1.0              58.0\n",
              "4        5     5268  15.01.2013  ...     1099.00           1.0              56.0\n",
              "\n",
              "[5 rows x 7 columns]"
            ]
          },
          "metadata": {},
          "execution_count": 164
        }
      ]
    },
    {
      "cell_type": "code",
      "metadata": {
        "colab": {
          "base_uri": "https://localhost:8080/"
        },
        "id": "6eHuU1gHWWOt",
        "outputId": "0dbc2d3c-b9b5-4f3f-eae6-fd443ac01bae"
      },
      "source": [
        "\n",
        "print(test.nunique())"
      ],
      "execution_count": null,
      "outputs": [
        {
          "output_type": "stream",
          "name": "stdout",
          "text": [
            "shop_id               42\n",
            "item_id             5100\n",
            "date                  59\n",
            "date_block_num         2\n",
            "item_price          2764\n",
            "item_cnt_day          41\n",
            "item_category_id      57\n",
            "dtype: int64\n"
          ]
        }
      ]
    },
    {
      "cell_type": "code",
      "metadata": {
        "colab": {
          "base_uri": "https://localhost:8080/"
        },
        "id": "k9TI27JaNM3g",
        "outputId": "d85237d3-6aa7-4c9e-d16d-28db1515cb47"
      },
      "source": [
        "print(\"Missing NaN values\")\n",
        "print(test.isnull().sum())"
      ],
      "execution_count": null,
      "outputs": [
        {
          "output_type": "stream",
          "name": "stdout",
          "text": [
            "Missing NaN values\n",
            "shop_id             0\n",
            "item_id             0\n",
            "date                1\n",
            "date_block_num      1\n",
            "item_price          1\n",
            "item_cnt_day        1\n",
            "item_category_id    1\n",
            "dtype: int64\n"
          ]
        }
      ]
    },
    {
      "cell_type": "code",
      "metadata": {
        "id": "W8VwDHFFOaYm"
      },
      "source": [
        ""
      ],
      "execution_count": null,
      "outputs": []
    },
    {
      "cell_type": "code",
      "metadata": {
        "id": "4PioQNWcOcca",
        "colab": {
          "base_uri": "https://localhost:8080/"
        },
        "outputId": "61f25c0c-6ab5-43a9-d364-942511839135"
      },
      "source": [
        "print(test)"
      ],
      "execution_count": null,
      "outputs": [
        {
          "output_type": "stream",
          "name": "stdout",
          "text": [
            "        shop_id  item_id  ... item_cnt_day  item_category_id\n",
            "0             5     5037  ...          1.0              37.0\n",
            "1             5     5320  ...          1.0              58.0\n",
            "2             5     5233  ...         -1.0              58.0\n",
            "3             5     5232  ...          1.0              58.0\n",
            "4             5     5268  ...          1.0              56.0\n",
            "...         ...      ...  ...          ...               ...\n",
            "214195       45    18454  ...          1.0              40.0\n",
            "214196       45    16188  ...          1.0              40.0\n",
            "214197       45    15757  ...          1.0              40.0\n",
            "214198       45    19648  ...          1.0              38.0\n",
            "214199       45      969  ...          1.0              30.0\n",
            "\n",
            "[214200 rows x 7 columns]\n"
          ]
        }
      ]
    },
    {
      "cell_type": "markdown",
      "metadata": {
        "id": "NFX3khEz04sZ"
      },
      "source": [
        "###Idenitfying Outliers"
      ]
    },
    {
      "cell_type": "code",
      "metadata": {
        "colab": {
          "base_uri": "https://localhost:8080/",
          "height": 577
        },
        "id": "xpIF9bPx03l2",
        "outputId": "5c2ece53-95ec-4ca0-ae1d-5ce8b805fa8a"
      },
      "source": [
        "\n",
        "plt.figure(figsize=(10,4))\n",
        "plt.xlim(-100, 3000)\n",
        "sns.boxplot(x=train['item_cnt_day'])\n",
        "print('Item Sale outliers:',train['item_id'][train['item_cnt_day']>500].unique())\n",
        "\n",
        "plt.figure(figsize=(10,4))\n",
        "plt.xlim(train['item_price'].min(), train['item_price'].max())\n",
        "sns.boxplot(x=train['item_price'])\n",
        "print('Item price outliers:',train['item_id'][train['item_price']>50000].unique())"
      ],
      "execution_count": null,
      "outputs": [
        {
          "output_type": "stream",
          "name": "stdout",
          "text": [
            "Item Sale outliers: [ 8057 20949  9242 19437  3731 11373  9249  9248]\n",
            "Item price outliers: [11365  6066 13199]\n"
          ]
        },
        {
          "output_type": "display_data",
          "data": {
            "image/png": "[encoded data removed]",
            "text/plain": [
              "<Figure size 720x288 with 1 Axes>"
            ]
          },
          "metadata": {}
        },
        {
          "output_type": "display_data",
          "data": {
            "image/png": "[encoded data removed]",
            "text/plain": [
              "<Figure size 720x288 with 1 Axes>"
            ]
          },
          "metadata": {}
        }
      ]
    },
    {
      "cell_type": "markdown",
      "metadata": {
        "id": "EgeKFvksCCbt"
      },
      "source": [
        "### insights:\n",
        "1. There are no missing values at all. \n",
        "2. Not all shop_id in train set are used in test set. Test set excludes following shops (not vice versa) [0, 1, 8, 9, 11, 13, 17, 20, 23, 27, 29, 30, 32, 33, 40, 43, 51, 54]\n",
        "3. Number of sold items declines over the year\n",
        "4. There are peaks in November and similar item count zig-zag behavior can be seen in June-July-August. This can be due to: vacation time/national holidays. \n"
      ]
    },
    {
      "cell_type": "markdown",
      "metadata": {
        "id": "2IpSU5GeTx4w"
      },
      "source": [
        "##Insights from the Plots:"
      ]
    },
    {
      "cell_type": "markdown",
      "metadata": {
        "id": "qq8FIS9FpIo7"
      },
      "source": [
        "###Things to look at:\n",
        "1. Heuristic Model\n",
        "2. Lag features in time series datasets\n",
        "3. Adverserial Validation \n",
        "4. Forecasting Models like ARIMA\n",
        "5. etc."
      ]
    }
  ]
}